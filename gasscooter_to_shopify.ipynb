{
 "cells": [
  {
   "cell_type": "code",
   "execution_count": null,
   "id": "4233c016-8ff8-41ee-b1c0-243836e0d5c0",
   "metadata": {},
   "outputs": [],
   "source": [
    "import pandas as pd\n",
    "import numpy as np\n",
    "import re\n",
    "from collections import defaultdict\n",
    "import os\n",
    "import glob\n",
    "import json\n",
    "import ast\n",
    "from datetime import datetime, timedelta\n",
    "import random"
   ]
  },
  {
   "cell_type": "markdown",
   "id": "bc1641ee-b93c-4f8f-947f-58fe36f1095c",
   "metadata": {},
   "source": [
    "# Custom Function"
   ]
  },
  {
   "cell_type": "code",
   "execution_count": null,
   "id": "3b6e5257-8db8-4fea-857d-c84a60f98b6d",
   "metadata": {},
   "outputs": [],
   "source": [
    "def get_type(product_category):\n",
    "    if pd.isna(product_category):\n",
    "        return 'Misc'\n",
    "    else:\n",
    "        return product_category.split('>')[-1]"
   ]
  },
  {
   "cell_type": "code",
   "execution_count": null,
   "id": "ea0bbfff-0014-4fdc-9aea-1e320857cf01",
   "metadata": {},
   "outputs": [],
   "source": [
    "def convert_weight(weight):\n",
    "    if pd.isna(weight):\n",
    "        return ''\n",
    "    else:\n",
    "        grams = weight/2205\n",
    "        return float(\"{:.2f}\".format(grams))"
   ]
  },
  {
   "cell_type": "code",
   "execution_count": null,
   "id": "01e6e242-e984-413b-b933-d098513316cd",
   "metadata": {},
   "outputs": [],
   "source": [
    "def get_option_name(input_string):\n",
    "    if pd.isna(input_string):\n",
    "        return input_string\n",
    "    else:\n",
    "        input_string = input_string.replace('\"','')\n",
    "        sections = input_string.strip().split('\\n\\n')\n",
    "        option = sections[0].strip().split('\\n')\n",
    "        option_name = option[0]\n",
    "        return option_name"
   ]
  },
  {
   "cell_type": "code",
   "execution_count": null,
   "id": "16c38605-28b7-4457-89ea-cb070cd07839",
   "metadata": {},
   "outputs": [],
   "source": [
    "def get_option_value(input_string):\n",
    "    if pd.isna(input_string):\n",
    "        return input_string\n",
    "    else:\n",
    "        input_string = input_string.replace('\"','')\n",
    "        sections = input_string.strip().split('\\n\\n')\n",
    "        option = sections[0].strip().split('\\n')\n",
    "        option_values = option[1:-1]\n",
    "        return option_values"
   ]
  },
  {
   "cell_type": "code",
   "execution_count": null,
   "id": "aa80a32c-5758-4e5c-82e4-fb1d2a6ddd6b",
   "metadata": {},
   "outputs": [],
   "source": [
    "def get_variant_sku(variant_sku, opt_value):\n",
    "    if (pd.isna(variant_sku)) | (pd.isna(opt_value)):\n",
    "        return variant_sku\n",
    "    else:\n",
    "        return variant_sku + '-' + opt_value"
   ]
  },
  {
   "cell_type": "code",
   "execution_count": null,
   "id": "c844f1ba-af72-490b-97fe-7feec660bd15",
   "metadata": {},
   "outputs": [],
   "source": [
    "def get_image_alt_text(image_src):\n",
    "    if pd.isna(image_src):\n",
    "        return image_src\n",
    "    else:\n",
    "        return image_src.split('/')[-1]"
   ]
  },
  {
   "cell_type": "code",
   "execution_count": null,
   "id": "cc3fbbcf-29f4-4ead-95f4-d31bd60fd657",
   "metadata": {},
   "outputs": [],
   "source": [
    "def convert_upc(barcode):\n",
    "    if (pd.isna(barcode)) | (barcode == 'DOES NOT APPLY'):\n",
    "        return ''\n",
    "    else:\n",
    "        return str(int(barcode))"
   ]
  },
  {
   "cell_type": "code",
   "execution_count": null,
   "id": "1d53cbdd-b6b5-4a43-9739-700a4eb5161d",
   "metadata": {},
   "outputs": [],
   "source": [
    "def read_all(folder_path, encoding='utf-8'):\n",
    "\n",
    "    path = os.path.join(os.getcwd(), folder_path)\n",
    "    all_files = glob.glob(os.path.join(path , \"*.csv\"))\n",
    "    li = []\n",
    "    for filename in all_files:\n",
    "        df = pd.read_csv(filename, index_col=None, header=0, encoding=encoding)\n",
    "        li.append(df)\n",
    "    \n",
    "    frame = pd.concat(li, axis=0, ignore_index=True)\n",
    "\n",
    "    return frame"
   ]
  },
  {
   "cell_type": "code",
   "execution_count": null,
   "id": "f5295941-83df-4dac-83f8-a789c01e2fa4",
   "metadata": {},
   "outputs": [],
   "source": [
    "def get_tag(breadcrumb):\n",
    "    if pd.isna(breadcrumb):\n",
    "        return breadcrumb\n",
    "    else:\n",
    "        tags = breadcrumb.replace(',', ';').split(':')\n",
    "        result = ','.join(tags)\n",
    "        return result"
   ]
  },
  {
   "cell_type": "code",
   "execution_count": null,
   "id": "704f54ad-5ff1-4dd3-b0fd-9fbca4c14f80",
   "metadata": {},
   "outputs": [],
   "source": [
    "def get_collection(tags):\n",
    "    if pd.isna(tags):\n",
    "        return tags\n",
    "    else:\n",
    "        collection = tags.split(',')\n",
    "        return collection[-1]"
   ]
  },
  {
   "cell_type": "code",
   "execution_count": null,
   "id": "dd636d94-1c48-47fe-8e95-367aba648082",
   "metadata": {},
   "outputs": [],
   "source": [
    "def gen_datetime(x, min_year=2020, max_year=datetime.now().year):\n",
    "    # generate a datetime in format yyyy-mm-dd hh:mm:ss.000000\n",
    "    start = datetime(min_year, 1, 1, 00, 00, 00)\n",
    "    years = max_year - min_year + 1\n",
    "    end = start + timedelta(days=((365 * years) - 166)) \n",
    "    result_datetime = start + (end - start) * random.random()\n",
    "    return result_datetime.strftime('%Y-%m-%d %H:%M:%S')"
   ]
  },
  {
   "cell_type": "code",
   "execution_count": null,
   "id": "7346801b-d900-4503-9087-c752b9ead8cd",
   "metadata": {},
   "outputs": [],
   "source": [
    "def extract_data(dict_string, field):\n",
    "    dict_data = ast.literal_eval(dict_string)\n",
    "    results = list()\n",
    "    for data in dict_data['data']:\n",
    "        results.append(data[field])\n",
    "    return results"
   ]
  },
  {
   "cell_type": "code",
   "execution_count": null,
   "id": "990212fe-7004-440f-9cff-2b5d5d06c4b0",
   "metadata": {},
   "outputs": [],
   "source": [
    "def generate_tt_product_url(handle):\n",
    "    if pd.isna(handle):\n",
    "        return None\n",
    "    return f'https://www.trendtimes.com/{handle}.html'"
   ]
  },
  {
   "cell_type": "code",
   "execution_count": null,
   "id": "249a3d81-42da-4477-b91d-a4f505bb0dda",
   "metadata": {},
   "outputs": [],
   "source": [
    "def generate_sf_product_url(handle):\n",
    "    if pd.isna(handle):\n",
    "        return None\n",
    "    return f'https://www.trendtimes.com/products/{handle}'"
   ]
  },
  {
   "cell_type": "code",
   "execution_count": null,
   "id": "e53e7e85-5a21-47f1-afa2-fd61a0ffda0a",
   "metadata": {},
   "outputs": [],
   "source": [
    "def generate_sf_collection_url(handle):\n",
    "    if pd.isna(handle):\n",
    "        return None\n",
    "    return f'https://www.trendtimes.com/collections/{handle}'"
   ]
  },
  {
   "cell_type": "code",
   "execution_count": null,
   "id": "5bebec2e-bdb1-4a9c-ae03-30d8c864d42d",
   "metadata": {},
   "outputs": [],
   "source": [
    "def generate_key(product_id):\n",
    "    if pd.isna(product_id):\n",
    "        return None\n",
    "    product_id = product_id.strip('-')\n",
    "    product_id = re.sub(r'-+', '-', product_id)\n",
    "    if product_id.startswith('-'):\n",
    "        product_id = product_id[1:]\n",
    "    \n",
    "    return product_id"
   ]
  },
  {
   "cell_type": "code",
   "execution_count": null,
   "id": "73a9bae7-f53a-40e3-a9ff-eb3d0bfe1b03",
   "metadata": {},
   "outputs": [],
   "source": [
    "def format_price(price):\n",
    "    if pd.isna(price):\n",
    "        return None\n",
    "    if type(price) == float:\n",
    "        return price\n",
    "    price = price.split(' ')[0]\n",
    "    \n",
    "    return price"
   ]
  },
  {
   "cell_type": "code",
   "execution_count": null,
   "id": "0d4d8ba6-0664-4894-ba1a-76216f00ec05",
   "metadata": {},
   "outputs": [],
   "source": [
    "def format_weight(weight):\n",
    "    if pd.isna(price):\n",
    "        return None\n",
    "    if (type(price) == float) & (type(price) == int):\n",
    "        return price\n",
    "    price = float(price.replace(' ', '.'))\n",
    "    \n",
    "    return price"
   ]
  },
  {
   "cell_type": "code",
   "execution_count": null,
   "id": "fc7b680c-0d59-4efe-bd9b-2425e113ddd2",
   "metadata": {},
   "outputs": [],
   "source": [
    "def generate_collection_url(handle):\n",
    "    if pd.isna(handle):\n",
    "        return None\n",
    "    return f'https://www.trendtimes.com/{handle}.html'    "
   ]
  },
  {
   "cell_type": "code",
   "execution_count": null,
   "id": "c409a538-d4cd-4262-8d99-3d397842cfcf",
   "metadata": {},
   "outputs": [],
   "source": [
    "def extract_alphanumeric(text):\n",
    "    pattern = re.compile(r\"\\b[a-zA-Z0-9]+\\b|\\'\")\n",
    "    alphanumeric_matches = pattern.findall(text)\n",
    "    return alphanumeric_matches"
   ]
  },
  {
   "cell_type": "code",
   "execution_count": null,
   "id": "d9895944-3560-487b-a301-c4862b0d0554",
   "metadata": {},
   "outputs": [],
   "source": [
    "def title_to_id(title):\n",
    "    if pd.isna(title):\n",
    "        return None\n",
    "    result = extract_alphanumeric(title.lower())\n",
    "    result = '-'.join(result)\n",
    "    result = re.sub(r'-+', '-', result)\n",
    "    result = result.replace(\"-'-\", \"\")\n",
    "    return result"
   ]
  },
  {
   "cell_type": "markdown",
   "id": "ad9db86b-5923-43d2-a24f-b061e77d0e6b",
   "metadata": {},
   "source": [
    "parsed_dict = parse_string_to_dict(input_string)\n",
    "print(parsed_dict)"
   ]
  },
  {
   "cell_type": "markdown",
   "id": "284ae74a-9101-417c-87c5-2a1a766e5981",
   "metadata": {
    "jp-MarkdownHeadingCollapsed": true,
    "tags": []
   },
   "source": [
    "# Create shopify template"
   ]
  },
  {
   "cell_type": "code",
   "execution_count": null,
   "id": "9e996833-59e7-47cf-b023-2a829111beec",
   "metadata": {},
   "outputs": [],
   "source": [
    "template = pd.read_csv('products_export.csv')"
   ]
  },
  {
   "cell_type": "code",
   "execution_count": null,
   "id": "726ef89a-a05f-430b-b13e-365b551e69eb",
   "metadata": {},
   "outputs": [],
   "source": [
    "template.columns"
   ]
  },
  {
   "cell_type": "markdown",
   "id": "e6659555-3e35-4109-a3ee-59923ec406df",
   "metadata": {
    "jp-MarkdownHeadingCollapsed": true,
    "tags": []
   },
   "source": [
    "# Transform source product datas into shopify template"
   ]
  },
  {
   "cell_type": "code",
   "execution_count": null,
   "id": "d759794d-710e-4e2c-9d6f-f7294d2f0987",
   "metadata": {},
   "outputs": [],
   "source": [
    "source = read_all('source', encoding='latin-1')"
   ]
  },
  {
   "cell_type": "code",
   "execution_count": null,
   "id": "92dc4687-c3e8-4e35-89da-9ea53c4b9197",
   "metadata": {},
   "outputs": [],
   "source": [
    "trendtime_col = source[source['supplier'] == 'Sections']"
   ]
  },
  {
   "cell_type": "code",
   "execution_count": null,
   "id": "0c220340-0403-472b-a7bd-1f85ae34c797",
   "metadata": {},
   "outputs": [],
   "source": [
    "trendtime_prod = source[source['supplier'] != 'Sections']"
   ]
  },
  {
   "cell_type": "markdown",
   "id": "a3d51d42-675d-497f-9299-9c3411a58978",
   "metadata": {
    "jp-MarkdownHeadingCollapsed": true,
    "tags": []
   },
   "source": [
    "# unimported_items"
   ]
  },
  {
   "cell_type": "code",
   "execution_count": null,
   "id": "d32a110b-8ad8-49ae-acf8-4849d3f1ce43",
   "metadata": {},
   "outputs": [],
   "source": [
    "ui_df = pd.read_csv('unimported_items.csv')"
   ]
  },
  {
   "cell_type": "code",
   "execution_count": null,
   "id": "7122bd2b-3b80-467a-9b43-c3e4484fb10d",
   "metadata": {},
   "outputs": [],
   "source": [
    "ui_df['id'] = ui_df['product_urls'].apply(lambda x: x.split('/')[-1].split('.')[0])"
   ]
  },
  {
   "cell_type": "code",
   "execution_count": null,
   "id": "780b6e6a-0e35-4f1d-b186-4529369be1af",
   "metadata": {},
   "outputs": [],
   "source": [
    "ui_id_list = ui_df['id'].to_list() "
   ]
  },
  {
   "cell_type": "code",
   "execution_count": null,
   "id": "64e71e31-ff7a-4a95-a957-af77f25c3fee",
   "metadata": {},
   "outputs": [],
   "source": [
    "source = source[source['id'].isin(ui_id_list)].reset_index(drop=True)"
   ]
  },
  {
   "cell_type": "code",
   "execution_count": null,
   "id": "ab8cf1b5-19e5-4705-ac06-4e2b368292d3",
   "metadata": {},
   "outputs": [],
   "source": [
    "result = pd.DataFrame(columns=template.columns)"
   ]
  },
  {
   "cell_type": "code",
   "execution_count": null,
   "id": "915e20fd-d780-4abb-bd92-f0824ff9e555",
   "metadata": {},
   "outputs": [],
   "source": [
    "result['Handle'] = source.loc[:,'id']"
   ]
  },
  {
   "cell_type": "code",
   "execution_count": null,
   "id": "f23a9e2a-64b4-4490-80b5-996755da0df7",
   "metadata": {},
   "outputs": [],
   "source": [
    "result.loc[:, 'Title'] = source['name']\n",
    "result.loc[:, 'Title'] = result.loc[:, 'Title'].fillna('No Title')"
   ]
  },
  {
   "cell_type": "code",
   "execution_count": null,
   "id": "0a46b3c6-c2d8-4b16-979f-eb8c8718fa6e",
   "metadata": {},
   "outputs": [],
   "source": [
    "result.loc[:, 'Body (HTML)'] = source['caption']"
   ]
  },
  {
   "cell_type": "code",
   "execution_count": null,
   "id": "f4f8f284-3e7e-497b-9316-9c8dcef04eb1",
   "metadata": {},
   "outputs": [],
   "source": [
    "result.loc[:, 'Vendor'] = source['brand']"
   ]
  },
  {
   "cell_type": "code",
   "execution_count": null,
   "id": "552129d6-0a87-4352-ba8a-104bbc1fcbb7",
   "metadata": {},
   "outputs": [],
   "source": [
    "result.loc[:, 'Product Category'] = source['google-base-product-type']"
   ]
  },
  {
   "cell_type": "code",
   "execution_count": null,
   "id": "e7d6e67e-0443-4790-bced-234b840ccf30",
   "metadata": {},
   "outputs": [],
   "source": [
    "result.loc[:, 'Type'] = source['google-base-product-type'].apply(get_type)"
   ]
  },
  {
   "cell_type": "code",
   "execution_count": null,
   "id": "e14eed1d-5f8d-4a1e-95f8-d2a222a50112",
   "metadata": {},
   "outputs": [],
   "source": [
    "# bc_df = read_all('breadcrumbs')\n",
    "bc_df = pd.read_csv('breadcrumbs/breadcrumbds_data_unimported.csv')"
   ]
  },
  {
   "cell_type": "code",
   "execution_count": null,
   "id": "43144808-b292-44c0-ab24-8de4400cf87e",
   "metadata": {},
   "outputs": [],
   "source": [
    "bc_df['id'] = bc_df['id'].apply(lambda x: x.split('/')[-1].split('.')[0])"
   ]
  },
  {
   "cell_type": "code",
   "execution_count": null,
   "id": "001e2549-2081-4ab2-81f9-a8e451a0b0d1",
   "metadata": {},
   "outputs": [],
   "source": [
    "bc_df.drop_duplicates(inplace=True, ignore_index=True)"
   ]
  },
  {
   "cell_type": "code",
   "execution_count": null,
   "id": "18de2343-ba7a-4daf-b5af-a6a5cabfad4e",
   "metadata": {},
   "outputs": [],
   "source": [
    "result.loc[:, 'Tags'] = pd.merge(result.loc[:, 'Handle'], bc_df, how='left', left_on='Handle', right_on='id')['breadcrumbs']\n",
    "result.loc[:, 'Tags'] = result.loc[:, 'Tags'].apply(get_tag)"
   ]
  },
  {
   "cell_type": "code",
   "execution_count": null,
   "id": "55fd1a83-7a5b-4f78-98ea-c6dd5adb7a12",
   "metadata": {},
   "outputs": [],
   "source": [
    "result.loc[:, 'Published'] = True"
   ]
  },
  {
   "cell_type": "code",
   "execution_count": null,
   "id": "7b99ad3c-10a5-4600-b51f-4971bb25c2e3",
   "metadata": {},
   "outputs": [],
   "source": [
    "result.loc[:, 'Option1 Name'] = source['options'].apply(get_option_name)"
   ]
  },
  {
   "cell_type": "code",
   "execution_count": null,
   "id": "1f22d2a4-df90-4f01-beff-188c77abf9c2",
   "metadata": {},
   "outputs": [],
   "source": [
    "result.loc[:, 'Option1 Value'] = source['options'].apply(get_option_value)"
   ]
  },
  {
   "cell_type": "code",
   "execution_count": null,
   "id": "e8faaf0f-37fc-4cd5-b97e-f4272e652e4c",
   "metadata": {},
   "outputs": [],
   "source": [
    "result.loc[:, 'Variant SKU'] = source['code']"
   ]
  },
  {
   "cell_type": "code",
   "execution_count": null,
   "id": "20aa2e0a-cd9a-4888-b29a-c844691f2d94",
   "metadata": {},
   "outputs": [],
   "source": [
    "result.loc[:, 'Variant Grams'] = source['ship-weight']"
   ]
  },
  {
   "cell_type": "code",
   "execution_count": null,
   "id": "d5df42e2-deff-4b94-8761-1a1006f97fe7",
   "metadata": {},
   "outputs": [],
   "source": [
    "result.loc[:, 'Variant Inventory Tracker'] = 'shopify'"
   ]
  },
  {
   "cell_type": "code",
   "execution_count": null,
   "id": "3aa0e625-6292-4192-89b7-59a480c33b28",
   "metadata": {},
   "outputs": [],
   "source": [
    "result.loc[:, 'Variant Inventory Qty'] = source['orderable'].replace({'Yes': 10, 'No': 0})"
   ]
  },
  {
   "cell_type": "code",
   "execution_count": null,
   "id": "b2911881-eb01-4a00-b44a-a34fda4a33a0",
   "metadata": {},
   "outputs": [],
   "source": [
    "result.loc[:, 'Variant Inventory Policy'] = 'deny'"
   ]
  },
  {
   "cell_type": "code",
   "execution_count": null,
   "id": "0e15cfd0-ac9e-41b0-b18f-502000f06ede",
   "metadata": {},
   "outputs": [],
   "source": [
    "result.loc[:, 'Variant Fulfillment Service'] = 'manual'"
   ]
  },
  {
   "cell_type": "code",
   "execution_count": null,
   "id": "345e0c29-8087-4127-ba7e-3a4daf849962",
   "metadata": {},
   "outputs": [],
   "source": [
    "result.loc[:, 'Variant Price'] = source['sale-price'].apply(format_price)"
   ]
  },
  {
   "cell_type": "code",
   "execution_count": null,
   "id": "3fdc2be8-fb5d-4b99-ab30-76fc9abcfa12",
   "metadata": {},
   "outputs": [],
   "source": [
    "result.loc[:, 'Variant Compare At Price'] = source['price'].apply(format_price)"
   ]
  },
  {
   "cell_type": "code",
   "execution_count": null,
   "id": "17e459bf-2cb1-489e-92e0-73e238683119",
   "metadata": {},
   "outputs": [],
   "source": [
    "result.loc[:, 'Variant Requires Shipping'] = source['need-ship'].replace({'Yes': True, 'No': False})"
   ]
  },
  {
   "cell_type": "code",
   "execution_count": null,
   "id": "852d41e1-7772-45d5-a558-c51418b3fe11",
   "metadata": {},
   "outputs": [],
   "source": [
    "result.loc[:, 'Variant Taxable'] = True"
   ]
  },
  {
   "cell_type": "code",
   "execution_count": null,
   "id": "e89fdc0e-4cc1-48d7-85c7-d49f7f4cfff0",
   "metadata": {},
   "outputs": [],
   "source": [
    "result.loc[:, 'Variant Barcode'] = source['upc']"
   ]
  },
  {
   "cell_type": "code",
   "execution_count": null,
   "id": "7b7d7101-fa8d-420a-a16a-8fe9b71576f1",
   "metadata": {},
   "outputs": [],
   "source": [
    "result.loc[:, 'Variant Barcode'] = result.loc[:, 'Variant Barcode'].apply(convert_upc)"
   ]
  },
  {
   "cell_type": "code",
   "execution_count": null,
   "id": "20cf67e9-bf42-4024-ad52-a3508330aee0",
   "metadata": {},
   "outputs": [],
   "source": [
    "image_df = pd.read_csv('images_src_rev2/images_data_unimported.csv')"
   ]
  },
  {
   "cell_type": "code",
   "execution_count": null,
   "id": "33d68a65-2b90-4e4a-bcc0-c13eba0e0051",
   "metadata": {},
   "outputs": [],
   "source": [
    "image_df['id'] = image_df['id'].apply(lambda x: x.split('/')[-1].split('.')[0])"
   ]
  },
  {
   "cell_type": "code",
   "execution_count": null,
   "id": "977f46e0-c769-4e78-a87c-107a76d89a89",
   "metadata": {},
   "outputs": [],
   "source": [
    "image_df[image_df.duplicated()]"
   ]
  },
  {
   "cell_type": "code",
   "execution_count": null,
   "id": "bcfde877-cd01-4f9c-9a8a-e3b049d6753e",
   "metadata": {},
   "outputs": [],
   "source": [
    "image_df.drop_duplicates(inplace=True)"
   ]
  },
  {
   "cell_type": "code",
   "execution_count": null,
   "id": "8ee8c539-3aef-452c-acb7-73b316344f6d",
   "metadata": {},
   "outputs": [],
   "source": [
    "result.loc[:, 'Image Src'] = pd.merge(result.loc[:, 'Handle'], image_df, how='left', left_on='Handle', right_on='id')['images']"
   ]
  },
  {
   "cell_type": "code",
   "execution_count": null,
   "id": "bee654d6-0355-4ebf-b332-aefaec505fee",
   "metadata": {},
   "outputs": [],
   "source": [
    "result.loc[:, 'Gift Card'] = source['gift-certificate'].replace({'Yes': True, 'No': False})"
   ]
  },
  {
   "cell_type": "code",
   "execution_count": null,
   "id": "554cd922-0af4-445d-b842-1307f0e4f1ae",
   "metadata": {},
   "outputs": [],
   "source": [
    "result.loc[:, 'SEO Title'] = source['name']"
   ]
  },
  {
   "cell_type": "code",
   "execution_count": null,
   "id": "515a3464-b24d-4521-8258-e97496c05715",
   "metadata": {},
   "outputs": [],
   "source": [
    "result.loc[:, 'SEO Description'] = source['abstract']"
   ]
  },
  {
   "cell_type": "code",
   "execution_count": null,
   "id": "4d186ab5-89d6-47e4-90e1-4a818a2bfe9f",
   "metadata": {},
   "outputs": [],
   "source": [
    "result.loc[:, 'Google Shopping / Google Product Category'] = source['google-base-product-type']"
   ]
  },
  {
   "cell_type": "code",
   "execution_count": null,
   "id": "c14b1292-d345-440c-a658-20bc03d3d18d",
   "metadata": {},
   "outputs": [],
   "source": [
    "result.loc[:, 'Google Shopping / MPN'] = source['upc']"
   ]
  },
  {
   "cell_type": "code",
   "execution_count": null,
   "id": "e8d1dddb-152c-42a6-a491-dcc83052a92d",
   "metadata": {},
   "outputs": [],
   "source": [
    "result.loc[:,'Google Shopping / MPN'] = result.loc[:,'Google Shopping / MPN'].apply(convert_upc)"
   ]
  },
  {
   "cell_type": "code",
   "execution_count": null,
   "id": "01345dbd-9d25-4894-9457-b80e08921cd6",
   "metadata": {},
   "outputs": [],
   "source": [
    "result.loc[:, 'Google Shopping / Condition'] = 'New'"
   ]
  },
  {
   "cell_type": "code",
   "execution_count": null,
   "id": "56b713f5-7a2f-422e-acf4-63837ea4bf74",
   "metadata": {},
   "outputs": [],
   "source": [
    "result.loc[:, 'Variant Weight Unit'] = 'lb'"
   ]
  },
  {
   "cell_type": "code",
   "execution_count": null,
   "id": "efc71c6a-f700-4e87-9fa3-e827ed8511c7",
   "metadata": {},
   "outputs": [],
   "source": [
    "result.loc[:, 'Included / United States'] = True"
   ]
  },
  {
   "cell_type": "code",
   "execution_count": null,
   "id": "275bf44d-d51b-4b9e-b17a-b14cbe4d1f41",
   "metadata": {},
   "outputs": [],
   "source": [
    "result.loc[:, 'Included / Canada'] = True"
   ]
  },
  {
   "cell_type": "code",
   "execution_count": null,
   "id": "e10ed773-3875-4d04-abae-49b0372ff743",
   "metadata": {},
   "outputs": [],
   "source": [
    "result.loc[:, 'Status'] = 'active'"
   ]
  },
  {
   "cell_type": "code",
   "execution_count": null,
   "id": "48034cb9-65a2-4ec0-837e-0fee44d22a68",
   "metadata": {},
   "outputs": [],
   "source": [
    "# result.loc[:,'Collection'] = result.loc[:,'Tags'].apply(get_collection)"
   ]
  },
  {
   "cell_type": "markdown",
   "id": "b6750523-d897-4a5d-889d-2586ae471c55",
   "metadata": {
    "jp-MarkdownHeadingCollapsed": true,
    "tags": []
   },
   "source": [
    "# Input After Explode Option"
   ]
  },
  {
   "cell_type": "code",
   "execution_count": null,
   "id": "2d5bb541-7842-41b6-8ea2-120dd5938a39",
   "metadata": {},
   "outputs": [],
   "source": [
    "exploded_opt_result = result.assign(Option1Value=result['Option1 Value'].str.split(\";\")).explode(\"Option1 Value\")"
   ]
  },
  {
   "cell_type": "code",
   "execution_count": null,
   "id": "836e5f41-caa7-4df6-afde-53335257dc45",
   "metadata": {},
   "outputs": [],
   "source": [
    "exploded_opt_result[~pd.isna(exploded_opt_result['Option1 Name'])][['Handle', 'Option1 Name', 'Option1 Value', 'Variant SKU', 'Image Src']]"
   ]
  },
  {
   "cell_type": "code",
   "execution_count": null,
   "id": "6503688e-a8e2-40f8-9eb2-a350dd89518c",
   "metadata": {},
   "outputs": [],
   "source": [
    "exploded_opt_result.loc[(~pd.isna(exploded_opt_result['Option1 Name'])) & (pd.isna(exploded_opt_result['Option1 Value'])), 'Option1 Value'] = 'Standard'"
   ]
  },
  {
   "cell_type": "code",
   "execution_count": null,
   "id": "223ae812-2a5f-415f-8ace-cfbba9caa1f1",
   "metadata": {},
   "outputs": [],
   "source": [
    "exploded_opt_result.loc[:, 'Variant SKU'] = exploded_opt_result.apply(lambda x: get_variant_sku(x['Variant SKU'], x['Option1 Value']), axis=1)"
   ]
  },
  {
   "cell_type": "code",
   "execution_count": null,
   "id": "569d29bd-2d75-48da-a44d-c0b2207c8d9d",
   "metadata": {},
   "outputs": [],
   "source": [
    "uneeded_opt_column = [\n",
    "    'Title', 'Body (HTML)', 'Vendor', 'Product Category', 'Type', 'Tags',\n",
    "    'Published', 'Option1 Name', 'Option2 Name',\n",
    "    'Option2 Value', 'Option3 Name', 'Option3 Value', 'SEO Title','SEO Description', 'Image Src',\n",
    "    'Google Shopping / Google Product Category', 'Google Shopping / Gender',\n",
    "    'Google Shopping / Age Group', 'Google Shopping / MPN',\n",
    "    'Google Shopping / Condition', 'Google Shopping / Custom Product',\n",
    "    'Google Shopping / Custom Label 0', 'Google Shopping / Custom Label 1',\n",
    "    'Google Shopping / Custom Label 2', 'Google Shopping / Custom Label 3',\n",
    "    'Google Shopping / Custom Label 4', 'Cost per item', 'Included / United States', 'Price / United States', \n",
    "    'Compare At Price / United States', 'Included / Canada', 'Price / Canada',\n",
    "    'Compare At Price / Canada', 'Status'\n",
    "]"
   ]
  },
  {
   "cell_type": "code",
   "execution_count": null,
   "id": "3e1dcf51-e440-489c-b90c-63334fd28730",
   "metadata": {},
   "outputs": [],
   "source": [
    "exploded_opt_result['Flag'] = exploded_opt_result['Handle'].eq(exploded_opt_result['Handle'].shift(1))"
   ]
  },
  {
   "cell_type": "code",
   "execution_count": null,
   "id": "9fc46984-f6f9-4049-a15a-c865e03c0793",
   "metadata": {},
   "outputs": [],
   "source": [
    "exploded_opt_result.loc[exploded_opt_result['Flag'], uneeded_opt_column] = ''"
   ]
  },
  {
   "cell_type": "code",
   "execution_count": null,
   "id": "c644c702-6610-4a4c-b0ff-7a7fe2b05c00",
   "metadata": {},
   "outputs": [],
   "source": [
    "exploded_opt_result.drop('Flag', axis=1, inplace=True)"
   ]
  },
  {
   "cell_type": "markdown",
   "id": "2d9cc043-d407-495d-8ef5-a65933cf7cca",
   "metadata": {
    "jp-MarkdownHeadingCollapsed": true,
    "tags": []
   },
   "source": [
    "# Input After Explode Images Src"
   ]
  },
  {
   "cell_type": "code",
   "execution_count": null,
   "id": "122c36e5-9d4c-434e-8989-14227a667423",
   "metadata": {},
   "outputs": [],
   "source": [
    "final_df = exploded_opt_result.copy()"
   ]
  },
  {
   "cell_type": "code",
   "execution_count": null,
   "id": "455ad070-6f3b-4a3d-b21c-8683c83cd529",
   "metadata": {},
   "outputs": [],
   "source": [
    "final_df['Image Src'] = final_df['Image Src'].str.split(';')"
   ]
  },
  {
   "cell_type": "code",
   "execution_count": null,
   "id": "9cc32d00-ed22-434d-b291-0c5270ee2c8c",
   "metadata": {},
   "outputs": [],
   "source": [
    "final_df = final_df.assign(ImageSrc=final_df['Image Src']).explode(\"Image Src\")"
   ]
  },
  {
   "cell_type": "code",
   "execution_count": null,
   "id": "b4b017f5-a547-4d7a-ad85-1b579477ef13",
   "metadata": {},
   "outputs": [],
   "source": [
    "final_df.drop(['ImageSrc', 'Option1Value'], inplace=True, axis=1)"
   ]
  },
  {
   "cell_type": "code",
   "execution_count": null,
   "id": "b306631f-4e9a-442f-810c-937ad173dc10",
   "metadata": {},
   "outputs": [],
   "source": [
    "final_df['Image Alt Text'] = final_df['Image Src'].apply(get_image_alt_text)"
   ]
  },
  {
   "cell_type": "code",
   "execution_count": null,
   "id": "708b6e20-3c82-4b9c-81df-eaf0359a2bec",
   "metadata": {},
   "outputs": [],
   "source": [
    "final_df.fillna('', inplace=True)"
   ]
  },
  {
   "cell_type": "code",
   "execution_count": null,
   "id": "3d76983f-dbac-4049-bc44-fa62782d1e44",
   "metadata": {},
   "outputs": [],
   "source": [
    "uneeded_image_column = [\n",
    "    'Title', 'Body (HTML)', 'Vendor', 'Product Category', 'Type',\n",
    "    'Tags', 'Published', 'Option1 Name', 'Option1 Value', 'Option2 Name',\n",
    "    'Option2 Value', 'Option3 Name', 'Option3 Value', 'Variant SKU',\n",
    "    'Variant Grams', 'Variant Inventory Tracker', 'Variant Inventory Qty',\n",
    "    'Variant Inventory Policy', 'Variant Fulfillment Service',\n",
    "    'Variant Price', 'Variant Compare At Price',\n",
    "    'Variant Requires Shipping', 'Variant Taxable', 'Variant Barcode',\n",
    "    'Image Position', 'Gift Card',\n",
    "    'SEO Title', 'SEO Description',\n",
    "    'Google Shopping / Google Product Category', 'Google Shopping / Gender',\n",
    "    'Google Shopping / Age Group', 'Google Shopping / MPN',\n",
    "    'Google Shopping / Condition', 'Google Shopping / Custom Product',\n",
    "    'Google Shopping / Custom Label 0', 'Google Shopping / Custom Label 1',\n",
    "    'Google Shopping / Custom Label 2', 'Google Shopping / Custom Label 3',\n",
    "    'Google Shopping / Custom Label 4', 'Variant Image',\n",
    "    'Variant Weight Unit', 'Variant Tax Code', 'Cost per item',\n",
    "    'Included / United States', 'Price / United States',\n",
    "    'Compare At Price / United States', 'Included / Canada',\n",
    "    'Price / Canada', 'Compare At Price / Canada', 'Status'\n",
    "]"
   ]
  },
  {
   "cell_type": "code",
   "execution_count": null,
   "id": "72f730aa-f0aa-41ef-a167-e5a8a3733dac",
   "metadata": {},
   "outputs": [],
   "source": [
    "final_df['Flag'] = (final_df['Handle'].eq(final_df['Handle'].shift(1))) & (final_df['Option1 Value'].eq(final_df['Option1 Value'].shift(1)))"
   ]
  },
  {
   "cell_type": "code",
   "execution_count": null,
   "id": "eadca1c3-6b62-4dc0-b878-57949f3ee2f6",
   "metadata": {},
   "outputs": [],
   "source": [
    "final_df.loc[final_df['Flag'], uneeded_image_column] = ''"
   ]
  },
  {
   "cell_type": "code",
   "execution_count": null,
   "id": "abcf3a8f-0cba-4517-848d-32e8b148cb9d",
   "metadata": {},
   "outputs": [],
   "source": [
    "final_df.drop('Flag', axis=1, inplace=True)"
   ]
  },
  {
   "cell_type": "code",
   "execution_count": null,
   "id": "b2e7770c-eec0-40ca-97ba-d582c46158bd",
   "metadata": {},
   "outputs": [],
   "source": [
    "final_df"
   ]
  },
  {
   "cell_type": "markdown",
   "id": "9f8d1224-c902-4656-8923-7195b192108d",
   "metadata": {
    "jp-MarkdownHeadingCollapsed": true,
    "tags": []
   },
   "source": [
    "# Explode Collection"
   ]
  },
  {
   "cell_type": "code",
   "execution_count": null,
   "id": "0465f8ec-e37f-42ea-8f42-374975688b71",
   "metadata": {},
   "outputs": [],
   "source": [
    "very_final_df = final_df.copy()"
   ]
  },
  {
   "cell_type": "code",
   "execution_count": null,
   "id": "cece485f-6844-4b33-970d-6f73f27e8bc1",
   "metadata": {},
   "outputs": [],
   "source": [
    "very_final_df['Tags_2'] = very_final_df['Tags'].str.split(',')"
   ]
  },
  {
   "cell_type": "code",
   "execution_count": null,
   "id": "aa9f1469-f294-4f93-b6f6-76e567a6704d",
   "metadata": {},
   "outputs": [],
   "source": [
    "very_final_df = very_final_df.assign(Collection=very_final_df['Tags_2']).explode(\"Collection\")"
   ]
  },
  {
   "cell_type": "code",
   "execution_count": null,
   "id": "e0ee3a69-b0f6-46e0-aee4-fd58d7cea97c",
   "metadata": {},
   "outputs": [],
   "source": [
    "uneeded_image_column = [\n",
    "    'Title', 'Body (HTML)', 'Vendor', 'Product Category', 'Type',\n",
    "    'Tags', 'Published', 'Option1 Name', 'Option1 Value', 'Option2 Name',\n",
    "    'Option2 Value', 'Option3 Name', 'Option3 Value', 'Variant SKU',\n",
    "    'Variant Grams', 'Variant Inventory Tracker', 'Variant Inventory Qty',\n",
    "    'Variant Inventory Policy', 'Variant Fulfillment Service',\n",
    "    'Variant Price', 'Variant Compare At Price', 'Image Src',\n",
    "    'Variant Requires Shipping', 'Variant Taxable', 'Variant Barcode',\n",
    "    'Image Position', 'Gift Card', 'Image Alt Text',\n",
    "    'SEO Title', 'SEO Description',\n",
    "    'Google Shopping / Google Product Category', 'Google Shopping / Gender',\n",
    "    'Google Shopping / Age Group', 'Google Shopping / MPN',\n",
    "    'Google Shopping / Condition', 'Google Shopping / Custom Product',\n",
    "    'Google Shopping / Custom Label 0', 'Google Shopping / Custom Label 1',\n",
    "    'Google Shopping / Custom Label 2', 'Google Shopping / Custom Label 3',\n",
    "    'Google Shopping / Custom Label 4', 'Variant Image',\n",
    "    'Variant Weight Unit', 'Variant Tax Code', 'Cost per item',\n",
    "    'Included / United States', 'Price / United States',\n",
    "    'Compare At Price / United States', 'Included / Canada',\n",
    "    'Price / Canada', 'Compare At Price / Canada', 'Status'\n",
    "]"
   ]
  },
  {
   "cell_type": "code",
   "execution_count": null,
   "id": "4a8886d5-df97-415a-9308-d5af582c9d32",
   "metadata": {},
   "outputs": [],
   "source": [
    "very_final_df.drop('Tags_2', axis=1, inplace=True)"
   ]
  },
  {
   "cell_type": "code",
   "execution_count": null,
   "id": "8ce81962-fa5a-425b-8248-108ef92f2b6c",
   "metadata": {},
   "outputs": [],
   "source": [
    "very_final_df.fillna('', inplace=True)"
   ]
  },
  {
   "cell_type": "code",
   "execution_count": null,
   "id": "6b65618b-1bcd-4541-87ea-2a20c3528c77",
   "metadata": {},
   "outputs": [],
   "source": [
    "very_final_df['Flag'] = (very_final_df['Handle'].eq(very_final_df['Handle'].shift(1))) & (very_final_df['Collection'] != '')"
   ]
  },
  {
   "cell_type": "code",
   "execution_count": null,
   "id": "9124b906-c91c-46e7-82c2-cea73bf1292d",
   "metadata": {},
   "outputs": [],
   "source": [
    "very_final_df.loc[very_final_df['Flag'], uneeded_image_column] = ''"
   ]
  },
  {
   "cell_type": "code",
   "execution_count": null,
   "id": "74109ab5-4cc1-4aa9-90e5-278f8c805180",
   "metadata": {},
   "outputs": [],
   "source": [
    "very_final_df.drop('Flag', axis=1, inplace=True)"
   ]
  },
  {
   "cell_type": "code",
   "execution_count": null,
   "id": "ed5dc393-2c87-4d8f-a808-dd0215c179c1",
   "metadata": {},
   "outputs": [],
   "source": [
    "very_final_df.to_csv('result/trendtime_shopify_products_unimported.csv', index=False)"
   ]
  },
  {
   "cell_type": "markdown",
   "id": "8d0db73b-d4bb-4e5d-b1bc-57c051f9a769",
   "metadata": {
    "jp-MarkdownHeadingCollapsed": true,
    "tags": []
   },
   "source": [
    "# Data to CSV"
   ]
  },
  {
   "cell_type": "code",
   "execution_count": null,
   "id": "1bc1281e-3754-40c2-86b7-8bf29e7e338d",
   "metadata": {},
   "outputs": [],
   "source": [
    "collection_df.to_csv('Collection_list_unimported.csv')"
   ]
  },
  {
   "cell_type": "code",
   "execution_count": null,
   "id": "489ac41d-1ba0-460d-978d-75dbcb8d93d3",
   "metadata": {},
   "outputs": [],
   "source": [
    "# final_df.iloc[10002:15001].to_csv('result/trendtime_shopify_products_03.csv', index=False)\n",
    "final_df.to_csv('result/trendtime_shopify_products_unimported.csv', index=False)"
   ]
  },
  {
   "cell_type": "code",
   "execution_count": null,
   "id": "a8f44f3a-bbbc-4149-ac70-33366fd48855",
   "metadata": {},
   "outputs": [],
   "source": [
    "final_df[final_df['Handle'] == 'aa-batteries-4-pack']"
   ]
  },
  {
   "cell_type": "code",
   "execution_count": null,
   "id": "b4532cbb-ecaf-4958-9dcc-ba53a07bdc53",
   "metadata": {},
   "outputs": [],
   "source": [
    "default_df = pd.read_csv('default-table (copy 1).csv', encoding='latin-1')"
   ]
  },
  {
   "cell_type": "code",
   "execution_count": null,
   "id": "54994325-189a-44d1-bb03-667f554ad4e4",
   "metadata": {},
   "outputs": [],
   "source": [
    "default_df.loc[default_df['id'].str.contains(\"huge-apache-rc-helicopter\")]"
   ]
  },
  {
   "cell_type": "code",
   "execution_count": null,
   "id": "9bedf636-d078-439e-8de2-64278355f20b",
   "metadata": {},
   "outputs": [],
   "source": [
    "item_2"
   ]
  },
  {
   "cell_type": "markdown",
   "id": "a62a7d38-03e0-442d-a5bc-5c33f5f3753e",
   "metadata": {
    "jp-MarkdownHeadingCollapsed": true,
    "tags": []
   },
   "source": [
    "# Review converter"
   ]
  },
  {
   "cell_type": "code",
   "execution_count": null,
   "id": "3b7ed390-fae2-4b7a-91fc-f9d190edd77f",
   "metadata": {},
   "outputs": [],
   "source": [
    "review_df = read_all('reviews')"
   ]
  },
  {
   "cell_type": "code",
   "execution_count": null,
   "id": "8f383ff6-1a0a-4d9b-a136-caec67f49447",
   "metadata": {},
   "outputs": [],
   "source": [
    "review_df = review_df[~pd.isna(review_df['reviews'])]"
   ]
  },
  {
   "cell_type": "code",
   "execution_count": null,
   "id": "e480b635-73c7-4793-8bf8-45f09b8cbce7",
   "metadata": {},
   "outputs": [],
   "source": [
    "review_df.reset_index(inplace=True, drop=True)"
   ]
  },
  {
   "cell_type": "code",
   "execution_count": null,
   "id": "87d72f79-7ef0-4507-a22f-33ea9c8e025a",
   "metadata": {},
   "outputs": [],
   "source": [
    "review_df"
   ]
  },
  {
   "cell_type": "code",
   "execution_count": null,
   "id": "b7ef19f4-66aa-428c-ba8c-b4e281eac5b6",
   "metadata": {},
   "outputs": [],
   "source": [
    "review_template = pd.read_csv('Okendo_Import_Template_v1(1).csv')"
   ]
  },
  {
   "cell_type": "code",
   "execution_count": null,
   "id": "4d0841f3-caa4-46fd-aba8-95f2c20703e7",
   "metadata": {},
   "outputs": [],
   "source": [
    "review_template"
   ]
  },
  {
   "cell_type": "code",
   "execution_count": null,
   "id": "36affa11-1805-426f-83d4-29f6a491f285",
   "metadata": {},
   "outputs": [],
   "source": [
    "review_result = review_template[0:0]"
   ]
  },
  {
   "cell_type": "code",
   "execution_count": null,
   "id": "ef438103-22bb-4b43-8023-765e9cb69c46",
   "metadata": {},
   "outputs": [],
   "source": [
    "review_result['handle'] = review_df['id']"
   ]
  },
  {
   "cell_type": "code",
   "execution_count": null,
   "id": "e216ee89-ef61-4822-a192-cf8b29d7f451",
   "metadata": {},
   "outputs": [],
   "source": [
    "review_result"
   ]
  },
  {
   "cell_type": "code",
   "execution_count": null,
   "id": "c89b7d5e-b649-401a-bfc5-be6ae1b0959a",
   "metadata": {},
   "outputs": [],
   "source": [
    "review_result.loc[:,'reviews'] = review_df['reviews']"
   ]
  },
  {
   "cell_type": "code",
   "execution_count": null,
   "id": "6fe674d6-a25e-43c9-babf-b287dfe29c17",
   "metadata": {},
   "outputs": [],
   "source": [
    "review_result"
   ]
  },
  {
   "cell_type": "code",
   "execution_count": null,
   "id": "9ccd3a29-4bd3-4430-b8d7-f189a932fcaf",
   "metadata": {},
   "outputs": [],
   "source": [
    "review_result['name'] = review_result.apply(lambda x: extract_data(x['reviews'],field='posted_by'), axis=1)"
   ]
  },
  {
   "cell_type": "code",
   "execution_count": null,
   "id": "e0fdaaa2-671f-4db7-84d3-0dc26063ea1c",
   "metadata": {
    "scrolled": true
   },
   "outputs": [],
   "source": [
    "review_result['body'] = review_result.apply(lambda x: extract_data(x['reviews'],field='review_text'), axis=1)"
   ]
  },
  {
   "cell_type": "code",
   "execution_count": null,
   "id": "ab714f95-3e9f-461a-8491-befc66b27376",
   "metadata": {},
   "outputs": [],
   "source": [
    "review_result['rating'] = review_result.apply(lambda x: extract_data(x['reviews'],field='review_rating'), axis=1)"
   ]
  },
  {
   "cell_type": "code",
   "execution_count": null,
   "id": "0beeccb2-eb4a-4b9e-8ac6-c79bdbe99156",
   "metadata": {},
   "outputs": [],
   "source": [
    "review_result['title'] = review_result.apply(lambda x: extract_data(x['reviews'],field='review_title'), axis=1)"
   ]
  },
  {
   "cell_type": "code",
   "execution_count": null,
   "id": "8c9766b6-c767-4460-b20a-3cc4fa7a4308",
   "metadata": {},
   "outputs": [],
   "source": [
    "review_result.loc[0,'reviews']"
   ]
  },
  {
   "cell_type": "code",
   "execution_count": null,
   "id": "ac69d499-e18e-45dd-95dd-842a76e28418",
   "metadata": {},
   "outputs": [],
   "source": [
    "review_result"
   ]
  },
  {
   "cell_type": "code",
   "execution_count": null,
   "id": "38120c79-0f09-4d30-94d3-d5e9563efb8f",
   "metadata": {},
   "outputs": [],
   "source": [
    "review_result.drop(columns='reviews', inplace=True)"
   ]
  },
  {
   "cell_type": "code",
   "execution_count": null,
   "id": "d376be41-757c-4eef-acfe-abec7dbdbe7c",
   "metadata": {},
   "outputs": [],
   "source": [
    "review_result = review_result.explode(['name', 'body', 'rating', 'title'], ignore_index=True)"
   ]
  },
  {
   "cell_type": "code",
   "execution_count": null,
   "id": "bbbfd503-11f1-4c12-8617-5ad7e4d7ed34",
   "metadata": {},
   "outputs": [],
   "source": [
    "review_result['dateCreated'] = review_result.apply(lambda x: gen_datetime(x['handle']), axis=1)"
   ]
  },
  {
   "cell_type": "code",
   "execution_count": null,
   "id": "a8e70230-e918-42d0-909b-0222d0c630eb",
   "metadata": {},
   "outputs": [],
   "source": [
    "review_result['isApproved'] = True"
   ]
  },
  {
   "cell_type": "code",
   "execution_count": null,
   "id": "be4dc05d-5442-4417-984b-bf57cf748e01",
   "metadata": {},
   "outputs": [],
   "source": [
    "review_result"
   ]
  },
  {
   "cell_type": "code",
   "execution_count": null,
   "id": "ed7e871c-3022-4dd4-b2db-415946cbea26",
   "metadata": {},
   "outputs": [],
   "source": [
    "review_result.to_csv('reviews.csv', index=False)"
   ]
  },
  {
   "cell_type": "markdown",
   "id": "4905b770-049c-4659-bc89-4b51930ed095",
   "metadata": {
    "tags": []
   },
   "source": [
    "# Redirct Url"
   ]
  },
  {
   "cell_type": "markdown",
   "id": "f5ef9ab1-55cd-4dc9-b0ec-3a32c868d9c0",
   "metadata": {
    "jp-MarkdownHeadingCollapsed": true,
    "tags": []
   },
   "source": [
    "## Product"
   ]
  },
  {
   "cell_type": "code",
   "execution_count": null,
   "id": "e285551b-5030-4c1b-8a12-b76f08576ce9",
   "metadata": {},
   "outputs": [],
   "source": [
    "trendtime_prod[pd.isna(trendtime_prod['code'])]"
   ]
  },
  {
   "cell_type": "code",
   "execution_count": null,
   "id": "d964b00f-e05e-49a4-9ce9-8bdcbc27ccfb",
   "metadata": {},
   "outputs": [],
   "source": [
    "# shopify_redirect_df = pd.read_csv('product_urls_rev1.csv')"
   ]
  },
  {
   "cell_type": "code",
   "execution_count": null,
   "id": "66641ae2-daf6-47ed-8be9-04a3d3c882be",
   "metadata": {},
   "outputs": [],
   "source": [
    "# shopify_redirect_df[shopify_redirect_df['handle'] == 'canadair-rc-plane']"
   ]
  },
  {
   "cell_type": "code",
   "execution_count": null,
   "id": "6accc79c-c3f8-4724-ae5b-5878e2f10a12",
   "metadata": {},
   "outputs": [],
   "source": [
    "trendtime_prod['Old Page Url'] = trendtime_prod['id'].apply(generate_tt_product_url)"
   ]
  },
  {
   "cell_type": "code",
   "execution_count": null,
   "id": "7a43d5a4-1800-45a9-9e67-98a75d76f6ec",
   "metadata": {},
   "outputs": [],
   "source": [
    "trendtime_prod = trendtime_prod[['id', 'Old Page Url']]"
   ]
  },
  {
   "cell_type": "code",
   "execution_count": null,
   "id": "f7a850c9-c58f-4306-9939-ebbe5f3883d1",
   "metadata": {},
   "outputs": [],
   "source": [
    "trendtime_prod['key'] = trendtime_prod['id'].apply(generate_key)"
   ]
  },
  {
   "cell_type": "code",
   "execution_count": null,
   "id": "641a79ca-6266-4c02-bb54-77b40b6a0a06",
   "metadata": {},
   "outputs": [],
   "source": [
    "trendtime_prod['New Page Url'] = trendtime_prod['key'].apply(generate_sf_product_url)"
   ]
  },
  {
   "cell_type": "code",
   "execution_count": null,
   "id": "6353385c-2847-4d78-8171-db7809f8acb0",
   "metadata": {},
   "outputs": [],
   "source": [
    "trendtime_prod[['Old Page Url', 'New Page Url']].to_csv('trendtimes-redirectrules-prod.csv', index=False)"
   ]
  },
  {
   "cell_type": "code",
   "execution_count": null,
   "id": "c9b6098f-a4b6-4ebf-a40c-a871503d1ae4",
   "metadata": {},
   "outputs": [],
   "source": [
    "# redirect_urls = source.merge(shopify_redirect_df, how='left', left_on='key', right_on='handle')[['product_urls', 'onlineStorePreviewUrl']]"
   ]
  },
  {
   "cell_type": "code",
   "execution_count": null,
   "id": "8e10dce4-7660-4c35-b172-9e0b4df0117e",
   "metadata": {},
   "outputs": [],
   "source": [
    "# redirect_urls.rename({'product_urls': 'Old Page Url', 'onlineStorePreviewUrl': 'New Page Url'}, inplace=True)"
   ]
  },
  {
   "cell_type": "code",
   "execution_count": null,
   "id": "2b16248d-3ac0-4c4c-bbea-95a5fae52077",
   "metadata": {},
   "outputs": [],
   "source": [
    "# redirect_urls.dropna(inplace=True)"
   ]
  },
  {
   "cell_type": "code",
   "execution_count": null,
   "id": "e5058bda-62e9-445f-9e12-7cae178e49b4",
   "metadata": {},
   "outputs": [],
   "source": [
    "# redirect_urls.to_csv('trendtimes-redirectrules-with-na.csv', index=False)"
   ]
  },
  {
   "cell_type": "code",
   "execution_count": null,
   "id": "7cb9d8bf-b5ad-42d8-8749-8e3000f29ed4",
   "metadata": {},
   "outputs": [],
   "source": []
  },
  {
   "cell_type": "markdown",
   "id": "a8bc0e6a-1470-478a-a117-5442b9118df6",
   "metadata": {
    "jp-MarkdownHeadingCollapsed": true,
    "tags": []
   },
   "source": [
    "## Collections"
   ]
  },
  {
   "cell_type": "code",
   "execution_count": null,
   "id": "77801179-74c4-4d21-9bdb-2839a8ef1397",
   "metadata": {},
   "outputs": [],
   "source": [
    "trendtime_col"
   ]
  },
  {
   "cell_type": "code",
   "execution_count": null,
   "id": "e8e6f366-a28b-4927-af52-95f2f5aefed3",
   "metadata": {},
   "outputs": [],
   "source": [
    "trendtime_col['Old Page Url'] = trendtime_col['id'].apply(generate_tt_product_url)"
   ]
  },
  {
   "cell_type": "code",
   "execution_count": null,
   "id": "e9c381a4-f5a4-47eb-83f2-0390214f227e",
   "metadata": {},
   "outputs": [],
   "source": [
    "trendtime_col = trendtime_col[['id', 'Old Page Url']]"
   ]
  },
  {
   "cell_type": "code",
   "execution_count": null,
   "id": "aae2ac44-8cb5-4ca3-8b2e-cf19b9782e51",
   "metadata": {},
   "outputs": [],
   "source": [
    "trendtime_col"
   ]
  },
  {
   "cell_type": "code",
   "execution_count": null,
   "id": "2ed5844c-494d-43ba-8a6a-daff6f1f3a9f",
   "metadata": {},
   "outputs": [],
   "source": [
    "trendtime_col['key'] = trendtime_col['id'].apply(generate_key)"
   ]
  },
  {
   "cell_type": "code",
   "execution_count": null,
   "id": "cf08ae0e-5952-4183-bd8f-4364b95cf553",
   "metadata": {},
   "outputs": [],
   "source": [
    "trendtime_col"
   ]
  },
  {
   "cell_type": "code",
   "execution_count": null,
   "id": "146e7d55-a5bd-4c08-9136-818a3a4ccdc0",
   "metadata": {},
   "outputs": [],
   "source": [
    "trendtime_col['New Page Url'] = trendtime_col['key'].apply(generate_sf_collection_url)"
   ]
  },
  {
   "cell_type": "code",
   "execution_count": null,
   "id": "606b9ae9-a6f6-4408-a565-dbb29e50f3f4",
   "metadata": {},
   "outputs": [],
   "source": [
    "sf_collections = pd.read_csv('collection_list.csv') "
   ]
  },
  {
   "cell_type": "code",
   "execution_count": null,
   "id": "e073aa36-321d-4b5e-a866-3553ea1a735a",
   "metadata": {},
   "outputs": [],
   "source": [
    "col_checker = trendtime_col.merge(sf_collections, how='left', left_on='key', right_on='handle')"
   ]
  },
  {
   "cell_type": "code",
   "execution_count": null,
   "id": "4c910f1a-11ce-4496-a8f8-90e28f44ad5e",
   "metadata": {},
   "outputs": [],
   "source": [
    "col_checker['is_available'] = col_checker.apply(lambda x: 'No' if pd.isna(x['handle']) else 'Yes', axis=1)"
   ]
  },
  {
   "cell_type": "code",
   "execution_count": null,
   "id": "fae96bd5-50e8-4423-b7aa-4d41bc69ff07",
   "metadata": {},
   "outputs": [],
   "source": [
    "trendtime_col"
   ]
  },
  {
   "cell_type": "code",
   "execution_count": null,
   "id": "6f6c7e8e-87d6-4d40-a317-e91b45e82d3d",
   "metadata": {},
   "outputs": [],
   "source": [
    "col_checker.to_csv('trendtimes-redirectrules-col-checker.csv', index=False)"
   ]
  },
  {
   "cell_type": "code",
   "execution_count": null,
   "id": "05cd6cd8-e6e9-4172-a1cc-145c3cc17c3d",
   "metadata": {},
   "outputs": [],
   "source": [
    "trendtime_col[['Old Page Url', 'New Page Url']].to_csv('trendtimes-redirectrules-col.csv', index=False)"
   ]
  },
  {
   "cell_type": "markdown",
   "id": "3fdd8d1c-3d81-4327-bb30-b78f2d3100b2",
   "metadata": {
    "jp-MarkdownHeadingCollapsed": true
   },
   "source": [
    "## Collection Rev1"
   ]
  },
  {
   "cell_type": "code",
   "execution_count": null,
   "id": "8bfc1275-a311-487b-97c8-5bbc1ce895a5",
   "metadata": {},
   "outputs": [],
   "source": [
    "tt_col = read_all('sections')"
   ]
  },
  {
   "cell_type": "code",
   "execution_count": null,
   "id": "513e42e4-9be5-46eb-bbd8-0e54ff5c046b",
   "metadata": {},
   "outputs": [],
   "source": [
    "tt_col"
   ]
  },
  {
   "cell_type": "code",
   "execution_count": null,
   "id": "47c5c77f-bd0a-4d18-8d9a-e2b55533b78a",
   "metadata": {},
   "outputs": [],
   "source": [
    "tt_col = tt_col.drop_duplicates(ignore_index=True)"
   ]
  },
  {
   "cell_type": "code",
   "execution_count": null,
   "id": "eb578486-8917-4c4e-a833-c8b31606fc0f",
   "metadata": {},
   "outputs": [],
   "source": [
    "tt_col"
   ]
  },
  {
   "cell_type": "code",
   "execution_count": null,
   "id": "c236d737-04fe-4ee4-a868-ffc266cc4786",
   "metadata": {},
   "outputs": [],
   "source": [
    "tt_col.rename({'url': 'Old Page Url'}, axis=1, inplace=True)"
   ]
  },
  {
   "cell_type": "code",
   "execution_count": null,
   "id": "009bbfd9-e28f-496c-b2d6-ddea498d6026",
   "metadata": {},
   "outputs": [],
   "source": [
    "tt_col['handle'] = tt_col['tag'].apply(title_to_id)"
   ]
  },
  {
   "cell_type": "code",
   "execution_count": null,
   "id": "235734b5-be14-4882-a884-7b36ba4c7dea",
   "metadata": {},
   "outputs": [],
   "source": [
    "tt_col['id'] = tt_col['Old Page Url'].apply(lambda x: x.split('/')[-1].replace('.html', ''))"
   ]
  },
  {
   "cell_type": "code",
   "execution_count": null,
   "id": "84e1e431-9240-4875-874b-a2667f8b7e14",
   "metadata": {},
   "outputs": [],
   "source": [
    "tt_col"
   ]
  },
  {
   "cell_type": "code",
   "execution_count": null,
   "id": "0998b44d-d7fa-4601-a701-d107951bf898",
   "metadata": {},
   "outputs": [],
   "source": [
    "sf_col = pd.read_csv('sf_collection_list.csv')"
   ]
  },
  {
   "cell_type": "code",
   "execution_count": null,
   "id": "1f2ee0e8-a3c7-4b0b-8772-175eadf0f063",
   "metadata": {},
   "outputs": [],
   "source": [
    "sf_col"
   ]
  },
  {
   "cell_type": "markdown",
   "id": "4d09ad9c-1a59-4c91-a94d-50ec8a5198c2",
   "metadata": {},
   "source": [
    "### Find Section not appear on breadcrumbs"
   ]
  },
  {
   "cell_type": "code",
   "execution_count": null,
   "id": "be383c01-6116-467a-b06e-d4df3c87d886",
   "metadata": {},
   "outputs": [],
   "source": [
    "section_trendtime_tt = pd.merge(trendtime_col, tt_col, how='left', on='id')"
   ]
  },
  {
   "cell_type": "code",
   "execution_count": null,
   "id": "81d8c0ba-354f-487d-9656-0785d99571cc",
   "metadata": {},
   "outputs": [],
   "source": [
    "section_trendtime_tt"
   ]
  },
  {
   "cell_type": "code",
   "execution_count": null,
   "id": "a35cf62c-9356-4048-90d2-51105ba919e6",
   "metadata": {},
   "outputs": [],
   "source": [
    "section_trendtime_tt[pd.isna(section_trendtime_tt['handle'])]"
   ]
  },
  {
   "cell_type": "code",
   "execution_count": null,
   "id": "139a0f63-f430-4bf5-9e38-c303906d2883",
   "metadata": {},
   "outputs": [],
   "source": [
    "section_tt_trendtime = pd.merge(tt_col, trendtime_col, how='left', on='id')"
   ]
  },
  {
   "cell_type": "code",
   "execution_count": null,
   "id": "edf8ee2a-4003-40c2-a00d-802c4e8bb57c",
   "metadata": {},
   "outputs": [],
   "source": [
    "section_tt_trendtime"
   ]
  },
  {
   "cell_type": "code",
   "execution_count": null,
   "id": "6f6b7d8a-3502-4eab-b8b3-e0e3fb77b358",
   "metadata": {},
   "outputs": [],
   "source": [
    "section_tt_trendtime[pd.isna(section_tt_trendtime['Old Page Url_y'])].to_csv('cek_col_tt_trendtime.csv')"
   ]
  },
  {
   "cell_type": "code",
   "execution_count": null,
   "id": "56e452f1-436d-4b94-be68-2fb9dd1fa83a",
   "metadata": {},
   "outputs": [],
   "source": [
    "trendtime_col[trendtime_col['id'].str.contains('halloween-costumes---movie-theater-prop-toys-for-children-to-adults-accessories---makeup-makeup-airb')]"
   ]
  },
  {
   "cell_type": "code",
   "execution_count": null,
   "id": "20aa34c3-9b95-402a-b5cf-4c6873cf5ff9",
   "metadata": {},
   "outputs": [],
   "source": [
    "source[source['id'] == 'halloween-costumes---movie-theater-prop-toys-for-children-to-adults-accessories---makeup-makeup-airb'].to_csv('hallowen.csv', index=False)"
   ]
  },
  {
   "cell_type": "code",
   "execution_count": null,
   "id": "1356d5f5-8a27-47d4-9175-a14d29a88765",
   "metadata": {},
   "outputs": [],
   "source": [
    "sf_col['New Page Url'] = sf_col['handle'].apply(generate_sf_collection_url)"
   ]
  },
  {
   "cell_type": "code",
   "execution_count": null,
   "id": "174b2e62-0aa0-427a-9992-c3b58c21a5b2",
   "metadata": {},
   "outputs": [],
   "source": [
    "sf_col[sf_col['handle'].str.contains('jags')]"
   ]
  },
  {
   "cell_type": "code",
   "execution_count": null,
   "id": "3e3262c1-dcd0-4f70-85b3-6f847c72fe3a",
   "metadata": {},
   "outputs": [],
   "source": [
    "sf_col[sf_col['handle'].str.contains('redcat-volcano-epx-remote-control-truck-parts-epx-pro')]"
   ]
  },
  {
   "cell_type": "code",
   "execution_count": null,
   "id": "7c0b552b-e399-4031-a873-db5e19a0a480",
   "metadata": {},
   "outputs": [],
   "source": [
    "tt_col[tt_col['handle'].str.contains('2-channel')]"
   ]
  },
  {
   "cell_type": "code",
   "execution_count": null,
   "id": "3a8de06d-29fc-423d-bb4d-39d53a75a99d",
   "metadata": {},
   "outputs": [],
   "source": [
    "redirectrules = pd.merge(tt_col, sf_col, how='left', on='handle')"
   ]
  },
  {
   "cell_type": "code",
   "execution_count": null,
   "id": "bb5150c9-705b-436b-b5e7-c811ceeb7740",
   "metadata": {},
   "outputs": [],
   "source": [
    "redirectrules[pd.isna(redirectrules['New Page Url'])]"
   ]
  },
  {
   "cell_type": "code",
   "execution_count": null,
   "id": "ec8e2353-bef4-4577-ac1f-14ea7e1ee643",
   "metadata": {},
   "outputs": [],
   "source": [
    "redirectrules = redirectrules[['Old Page Url', 'New Page Url']]"
   ]
  },
  {
   "cell_type": "code",
   "execution_count": null,
   "id": "3c64f481-0224-4138-af3b-9c9b233718fc",
   "metadata": {},
   "outputs": [],
   "source": [
    "redirectrules.to_csv('trendtimes-redirectrules-col-rev1.csv', index=False)"
   ]
  },
  {
   "cell_type": "markdown",
   "id": "72b4c19d-d0d0-43f9-aa25-8817cbc6f1f3",
   "metadata": {
    "jp-MarkdownHeadingCollapsed": true,
    "tags": []
   },
   "source": [
    "## Col Checking"
   ]
  },
  {
   "cell_type": "code",
   "execution_count": null,
   "id": "d2481aca-a248-4f9e-b1f0-384fff341be8",
   "metadata": {},
   "outputs": [],
   "source": [
    "trendtime_col"
   ]
  },
  {
   "cell_type": "code",
   "execution_count": null,
   "id": "e323358a-530d-41e0-8660-5cc50c32b930",
   "metadata": {},
   "outputs": [],
   "source": [
    "cek_df = pd.merge(trendtime_col, tt_col, how='left', left_on='key', right_on='id')"
   ]
  },
  {
   "cell_type": "code",
   "execution_count": null,
   "id": "8735adf7-6dcf-4e93-9976-d12ad221e983",
   "metadata": {},
   "outputs": [],
   "source": [
    "cek_df"
   ]
  },
  {
   "cell_type": "code",
   "execution_count": null,
   "id": "30a34d9a-bde6-4b1d-b06b-ada69ace5e4b",
   "metadata": {},
   "outputs": [],
   "source": [
    "cek_df[~pd.isna(cek_df['Old Page Url'])]"
   ]
  },
  {
   "cell_type": "code",
   "execution_count": null,
   "id": "c59165ce-c21a-4aec-be75-4d3f50eb9d79",
   "metadata": {},
   "outputs": [],
   "source": [
    "cek_df[cek_df['id_x'].str.contains('2-channel-rc')]"
   ]
  },
  {
   "cell_type": "markdown",
   "id": "c2275b02-fc48-4031-9164-0139fdbcb8cb",
   "metadata": {
    "jp-MarkdownHeadingCollapsed": true,
    "tags": []
   },
   "source": [
    "## Col Checking sf"
   ]
  },
  {
   "cell_type": "code",
   "execution_count": null,
   "id": "a582019e-b03d-4a82-b84d-55ecdb0b4c58",
   "metadata": {},
   "outputs": [],
   "source": [
    "cek_df1 = pd.merge(tt_col, trendtime_col , how='left', left_on='id', right_on='id')"
   ]
  },
  {
   "cell_type": "code",
   "execution_count": null,
   "id": "b9fac406-ec43-4be5-8a59-684f71f4c415",
   "metadata": {},
   "outputs": [],
   "source": [
    "cek_df1[pd.isna(cek_df1['key'])]"
   ]
  },
  {
   "cell_type": "code",
   "execution_count": null,
   "id": "047ae7e5-f2b1-4f38-9f0b-c79dd3578e99",
   "metadata": {},
   "outputs": [],
   "source": [
    "trendtime_col[trendtime_col['id'].str.contains('jags')]"
   ]
  },
  {
   "cell_type": "code",
   "execution_count": null,
   "id": "88d29cb1-b310-444b-93a2-d485d2ca8897",
   "metadata": {},
   "outputs": [],
   "source": [
    "cek_df1[pd.isna(cek_df1['key'])]"
   ]
  },
  {
   "cell_type": "code",
   "execution_count": null,
   "id": "160ddeca-b768-4246-a929-a4649d9e768d",
   "metadata": {},
   "outputs": [],
   "source": []
  },
  {
   "cell_type": "code",
   "execution_count": null,
   "id": "131529e1-25b7-4eb9-b6ec-4fbc0b7b83e4",
   "metadata": {},
   "outputs": [],
   "source": []
  },
  {
   "cell_type": "markdown",
   "id": "e30b1662-f4d7-4082-b011-dc0d2b28a3ed",
   "metadata": {
    "jp-MarkdownHeadingCollapsed": true,
    "tags": []
   },
   "source": [
    "# Trial"
   ]
  },
  {
   "cell_type": "code",
   "execution_count": null,
   "id": "f4b92199-1687-4ef1-b3e1-1f8275a9a35f",
   "metadata": {},
   "outputs": [],
   "source": [
    "source = read_all('source', encoding='latin-1')"
   ]
  },
  {
   "cell_type": "code",
   "execution_count": null,
   "id": "611637f4-3191-4db5-bdd4-51f2d27affb8",
   "metadata": {},
   "outputs": [],
   "source": [
    "source.shape"
   ]
  },
  {
   "cell_type": "code",
   "execution_count": null,
   "id": "6658eff1-283c-46fd-8dbb-73d173f01ccf",
   "metadata": {},
   "outputs": [],
   "source": [
    "source[source['id'].str.contains('airsoft')].shape"
   ]
  },
  {
   "cell_type": "markdown",
   "id": "35416da2-01ff-4072-8977-e82b82be3600",
   "metadata": {
    "jp-MarkdownHeadingCollapsed": true
   },
   "source": [
    "## Collection Trial"
   ]
  },
  {
   "cell_type": "code",
   "execution_count": null,
   "id": "cb606f9b-3bcd-4d04-8a5e-30f4e5ca8235",
   "metadata": {},
   "outputs": [],
   "source": [
    "trendtime_col = source[((pd.isna(source['code'])) & (source['supplier'] == 'Sections'))]"
   ]
  },
  {
   "cell_type": "code",
   "execution_count": null,
   "id": "4dcc0e0e-e6f7-400e-9e8b-fff6e7224ecf",
   "metadata": {},
   "outputs": [],
   "source": [
    "trendtime_col.shape"
   ]
  },
  {
   "cell_type": "code",
   "execution_count": null,
   "id": "6864da32-b852-4c4b-81dd-3643e7660e35",
   "metadata": {},
   "outputs": [],
   "source": [
    "trendtime_col['Old Page Url'] = trendtime_col['id'].apply(generate_tt_product_url)"
   ]
  },
  {
   "cell_type": "code",
   "execution_count": null,
   "id": "2a7d8d46-1757-41e5-8bdc-ed1f3ede6eff",
   "metadata": {},
   "outputs": [],
   "source": [
    "trendtime_col = trendtime_col[['id', 'Old Page Url']]"
   ]
  },
  {
   "cell_type": "code",
   "execution_count": null,
   "id": "3621ae99-db51-409e-90b9-f502481cc562",
   "metadata": {},
   "outputs": [],
   "source": [
    "trendtime_col"
   ]
  },
  {
   "cell_type": "code",
   "execution_count": null,
   "id": "aa1fa4bd-b94f-440b-ba30-33f949e3c9b0",
   "metadata": {},
   "outputs": [],
   "source": [
    "scraped_url = read_all('sections')"
   ]
  },
  {
   "cell_type": "code",
   "execution_count": null,
   "id": "dc8d6832-6e34-4b41-8c5e-9c986fd2bf39",
   "metadata": {},
   "outputs": [],
   "source": [
    "scraped_url = scraped_url.drop_duplicates(ignore_index=True)"
   ]
  },
  {
   "cell_type": "code",
   "execution_count": null,
   "id": "1a699368-5a3a-4884-a674-d63d3735fbca",
   "metadata": {},
   "outputs": [],
   "source": [
    "scraped_url['id'] = scraped_url['url'].apply(lambda x: x.split('/')[-1].replace('.html', ''))"
   ]
  },
  {
   "cell_type": "code",
   "execution_count": null,
   "id": "4a1b84dd-973c-44f8-9f6c-09accc7af689",
   "metadata": {},
   "outputs": [],
   "source": [
    "scraped_url['handle'] = scraped_url['tag'].apply(title_to_id)"
   ]
  },
  {
   "cell_type": "code",
   "execution_count": null,
   "id": "a8975b57-a0ee-4b18-99b4-ad68c1db8691",
   "metadata": {},
   "outputs": [],
   "source": [
    "scraped_url"
   ]
  },
  {
   "cell_type": "code",
   "execution_count": null,
   "id": "ca65b0b1",
   "metadata": {},
   "outputs": [],
   "source": [
    "trendtime_col['New Page Url'] = trendtime_col['key'].apply(generate_sf_collection_url)"
   ]
  },
  {
   "cell_type": "code",
   "execution_count": null,
   "id": "c8ac0f92-98d8-4191-b767-d7892392fc7c",
   "metadata": {},
   "outputs": [],
   "source": [
    "tt_x_scraped = pd.merge(trendtime_col, scraped_url, how='left', on='id')"
   ]
  },
  {
   "cell_type": "code",
   "execution_count": null,
   "id": "7e2b4a74",
   "metadata": {},
   "outputs": [],
   "source": [
    "col_checker = trendtime_col.merge(sf_collections, how='left', left_on='key', right_on='handle')"
   ]
  },
  {
   "cell_type": "code",
   "execution_count": null,
   "id": "f44c583e",
   "metadata": {},
   "outputs": [],
   "source": [
    "col_checker['is_available'] = col_checker.apply(lambda x: 'No' if pd.isna(x['handle']) else 'Yes', axis=1)"
   ]
  },
  {
   "cell_type": "code",
   "execution_count": null,
   "id": "9f9d7c28-96a9-4d46-b925-cdead4d4ed7b",
   "metadata": {},
   "outputs": [],
   "source": [
    "tt_x_scraped[~pd.isna(tt_x_scraped['handle'])]"
   ]
  },
  {
   "cell_type": "code",
   "execution_count": null,
   "id": "a87a1abb-f6e9-43b1-ad43-5879e22ccacd",
   "metadata": {},
   "outputs": [],
   "source": [
    "sf_col = pd.read_csv('sf_collection_list.csv')"
   ]
  },
  {
   "cell_type": "code",
   "execution_count": null,
   "id": "b945e306-e7e8-4697-b634-3b544b2068c8",
   "metadata": {},
   "outputs": [],
   "source": [
    "sf_col['New Page Url'] = sf_col['handle'].apply(generate_sf_collection_url)"
   ]
  },
  {
   "cell_type": "code",
   "execution_count": null,
   "id": "760297ff-2621-40e9-93d2-f91e606ac997",
   "metadata": {},
   "outputs": [],
   "source": [
    "sf_col"
   ]
  },
  {
   "cell_type": "code",
   "execution_count": null,
   "id": "f55e9599-c4f8-4b81-afe7-5a9f5823df2c",
   "metadata": {},
   "outputs": [],
   "source": [
    "result_col = pd.merge(tt_x_scraped, sf_col, how='left', on='handle').reset_index(drop=True)"
   ]
  },
  {
   "cell_type": "code",
   "execution_count": null,
   "id": "0bbb3310-75e2-4e17-9100-dbfc83493ce3",
   "metadata": {},
   "outputs": [],
   "source": [
    "result_col"
   ]
  },
  {
   "cell_type": "code",
   "execution_count": null,
   "id": "884e1b87-c885-4754-b06b-c154305aa585",
   "metadata": {},
   "outputs": [],
   "source": [
    "col_matched = result_col[~pd.isna(result_col['New Page Url'])]"
   ]
  },
  {
   "cell_type": "code",
   "execution_count": null,
   "id": "aa30198a-6737-4b16-922e-eb84c390d8a5",
   "metadata": {},
   "outputs": [],
   "source": [
    "col_matched[['Old Page Url', 'New Page Url']].to_csv('trendtimes-redirectrules-col-rev2(matched).csv', index=False)"
   ]
  },
  {
   "cell_type": "code",
   "execution_count": null,
   "id": "d85e5550-2712-404b-8fa8-e688da99a42c",
   "metadata": {},
   "outputs": [],
   "source": [
    "col_unmatched = result_col[pd.isna(result_col['New Page Url'])]"
   ]
  },
  {
   "cell_type": "code",
   "execution_count": null,
   "id": "76cb9754-86bc-4a97-8aa4-3fdedb97275a",
   "metadata": {},
   "outputs": [],
   "source": [
    "col_unmatched[['Old Page Url', 'New Page Url']].to_csv('trendtimes-redirectrules-col-rev2(unmatched).csv', index=False)"
   ]
  },
  {
   "cell_type": "markdown",
   "id": "f9bdfb4f-7e72-43ba-8d5f-59640aa8b18f",
   "metadata": {},
   "source": [
    "## Product Trial"
   ]
  },
  {
   "cell_type": "code",
   "execution_count": null,
   "id": "fccaa2e7-ef21-435e-bffe-3507e16a0d30",
   "metadata": {},
   "outputs": [],
   "source": [
    "trendtime_prod = source[~((pd.isna(source['code'])) & (source['supplier'] == 'Sections'))]"
   ]
  },
  {
   "cell_type": "code",
   "execution_count": null,
   "id": "fb158ec9-1840-48ad-8aa2-cee87cec0ffd",
   "metadata": {},
   "outputs": [],
   "source": [
    "trendtime_prod"
   ]
  },
  {
   "cell_type": "code",
   "execution_count": null,
   "id": "08d3735e-c4e3-4dda-8c96-fdc91ea94481",
   "metadata": {},
   "outputs": [],
   "source": [
    "trendtime_prod['Old Page Url'] = trendtime_prod['id'].apply(generate_tt_product_url)"
   ]
  },
  {
   "cell_type": "code",
   "execution_count": null,
   "id": "285a43f1-eaa3-4472-8b1d-e5d29863bdcc",
   "metadata": {},
   "outputs": [],
   "source": [
    "trendtime_prod['handle'] = trendtime_prod['id'].apply(generate_key)"
   ]
  },
  {
   "cell_type": "code",
   "execution_count": null,
   "id": "19d22d63-440d-4eb0-9278-c4e7c7bbc187",
   "metadata": {},
   "outputs": [],
   "source": [
    "trendtime_prod"
   ]
  },
  {
   "cell_type": "code",
   "execution_count": null,
   "id": "ec64b41d-90de-4cc6-a09c-dd29bdbaa564",
   "metadata": {},
   "outputs": [],
   "source": [
    "trendtime_prod = trendtime_prod[['id', 'handle', 'Old Page Url']]"
   ]
  },
  {
   "cell_type": "code",
   "execution_count": null,
   "id": "c6f29f70-db9d-4573-a267-5a881efbc37d",
   "metadata": {},
   "outputs": [],
   "source": [
    "trendtime_prod"
   ]
  },
  {
   "cell_type": "code",
   "execution_count": null,
   "id": "885e0343-8bed-4f21-8cfe-a8b4f8744678",
   "metadata": {},
   "outputs": [],
   "source": [
    "sf_prod = pd.read_csv('product_urls_rev2.csv')"
   ]
  },
  {
   "cell_type": "code",
   "execution_count": null,
   "id": "0e706b23-7b5c-43a8-b7b9-5ae637620e7f",
   "metadata": {},
   "outputs": [],
   "source": [
    "sf_prod[sf_prod['handle'].str.contains('monster-truck-m')]"
   ]
  },
  {
   "cell_type": "code",
   "execution_count": null,
   "id": "a8f98e2c-8fa0-4363-baf6-b596f8b19afe",
   "metadata": {},
   "outputs": [],
   "source": [
    "sf_prod['New Page Url'] = sf_prod['handle'].apply(generate_sf_product_url)"
   ]
  },
  {
   "cell_type": "code",
   "execution_count": null,
   "id": "9505a4e2-b34e-4a82-887a-ae78a5b8185d",
   "metadata": {},
   "outputs": [],
   "source": [
    "sf_prod[['handle','New Page Url']]"
   ]
  },
  {
   "cell_type": "code",
   "execution_count": null,
   "id": "6283f7a8-1942-43b9-88ad-a92b0d562c63",
   "metadata": {},
   "outputs": [],
   "source": [
    "result_prod = pd.merge(trendtime_prod, sf_prod, how='left', on='handle')"
   ]
  },
  {
   "cell_type": "code",
   "execution_count": null,
   "id": "64fa0c4f-6f9c-4a80-a444-2d121495cac9",
   "metadata": {},
   "outputs": [],
   "source": [
    "result_prod = result_prod[['Old Page Url', 'New Page Url']]"
   ]
  },
  {
   "cell_type": "code",
   "execution_count": null,
   "id": "6ed2eea7-3bda-4f84-9886-04646fc7f871",
   "metadata": {},
   "outputs": [],
   "source": [
    "prod_matched = result_prod[~pd.isna(result_prod['New Page Url'])]"
   ]
  },
  {
   "cell_type": "code",
   "execution_count": null,
   "id": "583acc04-a65b-47cc-8471-410d352f0ae4",
   "metadata": {},
   "outputs": [],
   "source": [
    "prod_matched[['Old Page Url', 'New Page Url']].to_csv('trendtimes-redirectrules-prod-rev2(matched).csv', index=False)"
   ]
  },
  {
   "cell_type": "code",
   "execution_count": null,
   "id": "337c8595-33aa-4f4e-aa1d-69066afac288",
   "metadata": {},
   "outputs": [],
   "source": [
    "prod_unmatched = result_prod[pd.isna(result_prod['New Page Url'])]"
   ]
  },
  {
   "cell_type": "code",
   "execution_count": null,
   "id": "bd24491f-c866-4801-8a93-8eea986ae9da",
   "metadata": {},
   "outputs": [],
   "source": [
    "prod_unmatched[['Old Page Url', 'New Page Url']].to_csv('trendtimes-redirectrules-prod-rev2(unmatched).csv', index=False)"
   ]
  },
  {
   "cell_type": "markdown",
   "id": "396167fb-da84-4f94-a809-7968633b2412",
   "metadata": {
    "jp-MarkdownHeadingCollapsed": true
   },
   "source": [
    "# Clean Shopify Product"
   ]
  },
  {
   "cell_type": "code",
   "execution_count": null,
   "id": "55c06f55-d254-419e-be0d-8663f87720ef",
   "metadata": {},
   "outputs": [],
   "source": [
    "df = read_all('product_export')"
   ]
  },
  {
   "cell_type": "code",
   "execution_count": null,
   "id": "21c8be6a-f6c0-4d50-ad2d-fc26061a4606",
   "metadata": {},
   "outputs": [],
   "source": [
    "df"
   ]
  },
  {
   "cell_type": "code",
   "execution_count": null,
   "id": "7c51d8ac-4eae-40bb-8cca-981b093ca3a5",
   "metadata": {},
   "outputs": [],
   "source": [
    "df_price_0 = df.loc[(pd.isna(df['Image Src'])) & (df['Variant Price'] == 0.0) & (df['Status'] == 'active')]"
   ]
  },
  {
   "cell_type": "code",
   "execution_count": null,
   "id": "6511d64c-580f-41fc-9508-9e361e8392db",
   "metadata": {},
   "outputs": [],
   "source": [
    "df_price_0[df['Handle'] == ]"
   ]
  },
  {
   "cell_type": "code",
   "execution_count": null,
   "id": "b32703b6-c6f8-40a5-8001-88f2dfffa26b",
   "metadata": {},
   "outputs": [],
   "source": []
  },
  {
   "cell_type": "markdown",
   "id": "f173fbf8-556d-4da8-8047-e6988a55b282",
   "metadata": {
    "jp-MarkdownHeadingCollapsed": true
   },
   "source": [
    "# Analytics"
   ]
  },
  {
   "cell_type": "code",
   "execution_count": null,
   "id": "515ee2d7-a263-4ed9-abdf-2e4a68419822",
   "metadata": {},
   "outputs": [],
   "source": [
    "df = pd.read_csv('source/item-2.csv', encoding='latin-1')"
   ]
  },
  {
   "cell_type": "code",
   "execution_count": null,
   "id": "21b26400-4207-49df-9964-c542e2b99f9b",
   "metadata": {},
   "outputs": [],
   "source": [
    "df.fillna('', inplace=True)"
   ]
  },
  {
   "cell_type": "code",
   "execution_count": null,
   "id": "01ce1455-8cdd-44f9-8e72-5443ba808b3c",
   "metadata": {},
   "outputs": [],
   "source": [
    "df[df['code'] == 'DG88672M'].to_csv('hello_kitty_witch.csv', index=False)"
   ]
  },
  {
   "cell_type": "code",
   "execution_count": null,
   "id": "f00ffb8a-868e-4f36-a9a4-d54bf3769b6b",
   "metadata": {},
   "outputs": [],
   "source": []
  },
  {
   "cell_type": "markdown",
   "id": "35237c0a-643e-46f1-8f44-60d78e62cce3",
   "metadata": {
    "jp-MarkdownHeadingCollapsed": true
   },
   "source": [
    "# Cek breadcrumbs order"
   ]
  },
  {
   "cell_type": "code",
   "execution_count": null,
   "id": "38917315-29cc-487a-afed-f3f6a3129835",
   "metadata": {},
   "outputs": [],
   "source": [
    "breadcrumbs = pd.read_csv('breadcrumbs/breadcrumbs_data.csv')"
   ]
  },
  {
   "cell_type": "code",
   "execution_count": null,
   "id": "c6941111-72f5-46a2-b420-21dfdf43bc38",
   "metadata": {},
   "outputs": [],
   "source": [
    "breadcrumbs"
   ]
  },
  {
   "cell_type": "code",
   "execution_count": null,
   "id": "efba67c2-e8a2-497f-8512-3e1de2a5b9cd",
   "metadata": {},
   "outputs": [],
   "source": [
    "breadcrumbs[breadcrumbs['id'] == 'disney-frozen-anna-coronation-4-6'].iloc[0,1]"
   ]
  },
  {
   "cell_type": "markdown",
   "id": "499c1085-1437-4045-bf00-e71640ed2582",
   "metadata": {},
   "source": [
    "# Cek Product Dummy without redirect url"
   ]
  },
  {
   "cell_type": "code",
   "execution_count": null,
   "id": "72245fe9-924c-416e-af31-83f28a211ace",
   "metadata": {},
   "outputs": [],
   "source": [
    "df = read_all('data/product_data')"
   ]
  },
  {
   "cell_type": "code",
   "execution_count": null,
   "id": "d03821e5-6f7d-4151-a535-08c4e1de0591",
   "metadata": {},
   "outputs": [],
   "source": [
    "df.info()"
   ]
  },
  {
   "cell_type": "code",
   "execution_count": null,
   "id": "faa1e797-c166-40c8-91ce-e0e126ccfd93",
   "metadata": {},
   "outputs": [],
   "source": [
    "df_dummy_product = df.loc[(pd.notna(df['Title'])) & (df['Variant Price'] == 0) & (pd.isna(df['Variant Barcode'])) & (df['Status'] == 'active') & (pd.isna(df['Image Src'])) & (df['Variant Grams'] == 0)]"
   ]
  },
  {
   "cell_type": "code",
   "execution_count": null,
   "id": "1d62a728-c6e4-44aa-9dbb-0a4301e6f612",
   "metadata": {},
   "outputs": [],
   "source": [
    "df_dummy_product"
   ]
  },
  {
   "cell_type": "code",
   "execution_count": null,
   "id": "e5f02bb7-83b3-4dc1-b465-7b91d3903567",
   "metadata": {},
   "outputs": [],
   "source": [
    "df_dummy_product.to_csv('data/dummy_product.csv', index=False)"
   ]
  },
  {
   "cell_type": "code",
   "execution_count": null,
   "id": "629c2082-b19d-43d6-86ea-1f312ffdd10a",
   "metadata": {},
   "outputs": [],
   "source": [
    "collection_df = pd.read_csv('data/collections.csv')"
   ]
  },
  {
   "cell_type": "code",
   "execution_count": null,
   "id": "239b3906-7c1b-4600-be89-e52871a1d4ed",
   "metadata": {},
   "outputs": [],
   "source": [
    "collection_df"
   ]
  },
  {
   "cell_type": "code",
   "execution_count": null,
   "id": "b09b1d42-10e9-4a92-be90-08f0e41513da",
   "metadata": {},
   "outputs": [],
   "source": [
    "check_df = df_dummy_product.merge(collection_df, how='left', left_on='Handle', right_on='handle')"
   ]
  },
  {
   "cell_type": "code",
   "execution_count": null,
   "id": "73551c2c-8fc4-4ead-8cef-9714ea46e0de",
   "metadata": {},
   "outputs": [],
   "source": [
    "check_df"
   ]
  },
  {
   "cell_type": "code",
   "execution_count": null,
   "id": "fbfc4c91-c15d-4ec9-9a6a-6f1c60c1eff1",
   "metadata": {},
   "outputs": [],
   "source": [
    "check_df.to_csv('data/check.csv', index=False)"
   ]
  },
  {
   "cell_type": "code",
   "execution_count": null,
   "id": "d7295b2c-88b4-4b07-84a8-973cb50ca09d",
   "metadata": {},
   "outputs": [],
   "source": []
  }
 ],
 "metadata": {
  "kernelspec": {
   "display_name": "Python 3 (ipykernel)",
   "language": "python",
   "name": "python3"
  },
  "language_info": {
   "codemirror_mode": {
    "name": "ipython",
    "version": 3
   },
   "file_extension": ".py",
   "mimetype": "text/x-python",
   "name": "python",
   "nbconvert_exporter": "python",
   "pygments_lexer": "ipython3",
   "version": "3.11.2"
  }
 },
 "nbformat": 4,
 "nbformat_minor": 5
}
