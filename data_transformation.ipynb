{
 "cells": [
  {
   "cell_type": "code",
   "execution_count": null,
   "id": "d9a33ded-4a9c-4b8d-af1b-c3eedec8ceef",
   "metadata": {},
   "outputs": [],
   "source": [
    "import pandas as pd\n",
    "from shopifyapi import ShopifyApp\n",
    "import os\n",
    "from dotenv import load_dotenv\n",
    "import re\n",
    "import csv"
   ]
  },
  {
   "cell_type": "code",
   "execution_count": null,
   "id": "ef815cea-2759-4dfc-a9c7-53bae8547e6d",
   "metadata": {},
   "outputs": [],
   "source": [
    "load_dotenv()"
   ]
  },
  {
   "cell_type": "markdown",
   "id": "36a14711-a29a-4ef0-b52b-41bcf186df16",
   "metadata": {},
   "source": [
    "# Support Functions"
   ]
  },
  {
   "cell_type": "code",
   "execution_count": null,
   "id": "e1611fa7-a7f6-4f12-bec5-40d2ca7e6417",
   "metadata": {},
   "outputs": [],
   "source": [
    "def adding_upc(df):\n",
    "    try:\n",
    "        upc_df = pd.read_csv('available_upc.csv')\n",
    "        upc_df.fillna('', inplace=True)\n",
    "        for index in range(len(df)):\n",
    "            if pd.notna(df.loc[index, 'Variant SKU']):\n",
    "                df.loc[index, 'Variant Barcode'] = upc_df[upc_df['Available'] == ''].iloc[0, 0].copy()\n",
    "                df.loc[index, 'Google Shopping / MPN'] = upc_df[upc_df['Available'] == ''].iloc[0, 0].copy()\n",
    "                index = upc_df.index[upc_df['Available'] == ''][0]\n",
    "                upc_df.iloc[index, 1] = 'Used'\n",
    "            else:\n",
    "                df.loc[index, 'Variant Barcode'] = ''\n",
    "                df.loc[index, 'Google Shopping / MPN'] = ''\n",
    "        upc_df.to_csv('available_upc.csv', index=False)\n",
    "\n",
    "        return df\n",
    "    \n",
    "    except IndexError:\n",
    "        print('UPC are not available!')"
   ]
  },
  {
   "cell_type": "code",
   "execution_count": null,
   "id": "8899bb06-ffa2-4adc-b13e-ac9083c54b5d",
   "metadata": {},
   "outputs": [],
   "source": [
    "def adding_tags(title, tags):\n",
    "    try:\n",
    "        if pd.notna(title):\n",
    "            if pd.notna(tags):\n",
    "                result = tags + ', toys'\n",
    "            else:\n",
    "                result = 'toys'\n",
    "        else:\n",
    "            result = None\n",
    "        \n",
    "        return result\n",
    "    except Exception as e:\n",
    "        print(e)\n",
    "            "
   ]
  },
  {
   "cell_type": "code",
   "execution_count": null,
   "id": "243614c6-47f8-491b-8db1-cc44195bdb21",
   "metadata": {},
   "outputs": [],
   "source": [
    "def clean_text(text):\n",
    "    if pd.isna(text):\n",
    "        return text\n",
    "    # First replace words containing 'freddo' with 'Trendtimes'\n",
    "    intermediate_text = re.sub(r'\\w*freddo\\w*', 'Magic Cars', text, flags=re.IGNORECASE)\n",
    "    \n",
    "    # Then remove 'dti direct' (case insensitive)\n",
    "    cleaned_text = re.sub(r'dti\\s+direct', 'Magic Cars', intermediate_text, flags=re.IGNORECASE)\n",
    "    \n",
    "    return cleaned_text"
   ]
  },
  {
   "cell_type": "code",
   "execution_count": null,
   "id": "647a16d7-9b30-4dcf-9322-e0228db05a22",
   "metadata": {},
   "outputs": [],
   "source": [
    "def clean_handle(text):\n",
    "    if pd.isna(text):\n",
    "        return text\n",
    "    # First replace words containing 'freddo' with 'Trendtimes'\n",
    "    intermediate_text = re.sub(r'\\w*freddo\\w*', 'magic-cars', text, flags=re.IGNORECASE)\n",
    "    \n",
    "    # Then remove 'dti direct' (case insensitive)\n",
    "    cleaned_text = re.sub(r'dti-direct', 'magic-cars', intermediate_text, flags=re.IGNORECASE)\n",
    "    \n",
    "    return cleaned_text"
   ]
  },
  {
   "cell_type": "code",
   "execution_count": null,
   "id": "ceb712e7-248f-4dc5-8fee-ddcfc05273b8",
   "metadata": {},
   "outputs": [],
   "source": [
    "def remove_video_embeds(text):\n",
    "    if pd.isna(text):\n",
    "        return text\n",
    "    \n",
    "    # pattern = r\"<h2>[^<]*?video[^<]*?</h2>\\s*<p>.*?<iframe.*?</iframe>\\s*</p>\"\n",
    "    pattern = r\"<h2>[^<]*?video[^<]*?</h2>\\s*(<p>\\s*<iframe.*?</iframe>\\s*</p>|<iframe.*?</iframe>)\"\n",
    "    cleaned_text = re.sub(pattern, \"\", text, flags=re.DOTALL | re.IGNORECASE)\n",
    "    \n",
    "    return cleaned_text\n"
   ]
  },
  {
   "cell_type": "code",
   "execution_count": null,
   "id": "e9d3fdb9-9755-4157-a839-f4b2a90282d5",
   "metadata": {},
   "outputs": [],
   "source": [
    "def remove_manual_embeds(text):\n",
    "    if pd.isna(text):\n",
    "        return text\n",
    "    \n",
    "    # pattern = r\"<h2>[^<]*?video[^<]*?</h2>\\s*<p>.*?<iframe.*?</iframe>\\s*</p>\"\n",
    "    # manual_pattern = r\"<h2[^>]*>Documents</h2>\\s*<table[^>]*>.*?</table>|<table[^>]*>(?:[^<]*|<(?!table)[^>]*>)*?(?:Manual|manual)(?:[^<]*|<(?!table)[^>]*>)*?</table>\"\n",
    "    # cleaned_text = re.sub(manual_pattern, \"\", text, flags=re.DOTALL | re.IGNORECASE)\n",
    "\n",
    "     # Create a regex pattern to match content between the start and end markers\n",
    "    pattern = re.escape(\"<h2>Documents</h2>\") + r\".*?\" + re.escape(\"</table>\")\n",
    "    # Remove the block using regex\n",
    "    cleaned_text = re.sub(pattern, '', text, flags=re.DOTALL)\n",
    "    return cleaned_text\n",
    "    \n",
    "    return cleaned_text"
   ]
  },
  {
   "cell_type": "code",
   "execution_count": null,
   "id": "99b082d4-7620-4bd5-9691-53f4f53880f8",
   "metadata": {},
   "outputs": [],
   "source": [
    "def reduce_price(price):\n",
    "    if pd.isna(price):\n",
    "        return price\n",
    "    float_price = float(price)\n",
    "    if (price is None) or (float_price == 0) or (price == '0.00'):\n",
    "        result = \"0.00\"\n",
    "    else:\n",
    "        result = float_price - round(float_price * 2 / 100, 2)\n",
    "\n",
    "    return f\"{result:.2f}\""
   ]
  },
  {
   "cell_type": "code",
   "execution_count": null,
   "id": "7a98b7af-c66a-4f8f-b4ba-70ba940fcc37",
   "metadata": {},
   "outputs": [],
   "source": [
    "def modify_sku(sku, warranty, plate):\n",
    "    if pd.isna(sku):\n",
    "        return sku\n",
    "    if warranty == 'None - $0':\n",
    "        if plate == 'None - $0':\n",
    "            return sku\n",
    "        elif plate == 'Custom license plate - $39':\n",
    "            return sku + '-P'\n",
    "    elif warranty == '1 year - $89':\n",
    "        if plate == 'None - $0':\n",
    "            return sku + '-W'\n",
    "        elif plate == 'Custom license plate - $39':\n",
    "            return sku + '-WP'"
   ]
  },
  {
   "cell_type": "code",
   "execution_count": null,
   "id": "8e0a798a-afa4-428d-954f-b5d02810ac25",
   "metadata": {},
   "outputs": [],
   "source": [
    "def modify_price(price, warranty, plate):\n",
    "    if pd.isna(price):\n",
    "        return price\n",
    "    price = float(price)\n",
    "    if warranty == 'None - $0':\n",
    "        if plate == 'None - $0':\n",
    "            return price\n",
    "        elif plate == 'Custom license plate - $39':\n",
    "            return price + 39.00\n",
    "    elif warranty == '1 year - $89':\n",
    "        if plate == 'None - $0':\n",
    "            return price + 89.00\n",
    "        elif plate == 'Custom license plate - $39':\n",
    "            return price + 39.00 + 89.00"
   ]
  },
  {
   "cell_type": "code",
   "execution_count": null,
   "id": "546fab0d-a10f-4a43-b833-084ec61cad84",
   "metadata": {},
   "outputs": [],
   "source": [
    "def shift_option(df):\n",
    "    for index in range(len(df)):\n",
    "        if pd.isna(df.loc[index, 'Option1 Value']):\n",
    "            df.loc[index, 'Option1 Name'] = df.loc[index, 'Option2 Name']\n",
    "            df.loc[index, 'Option1 Value'] = df.loc[index, 'Option2 Value']\n",
    "            df.loc[index, 'Option2 Name'] = df.loc[index, 'Option3 Name']\n",
    "            df.loc[index, 'Option2 Value'] = df.loc[index, 'Option3 Value']\n",
    "            df.loc[index, 'Option3 Name'] = ''\n",
    "            df.loc[index, 'Option3 Value'] = ''\n",
    "        else:\n",
    "            pass\n",
    "    \n",
    "    return df    "
   ]
  },
  {
   "cell_type": "markdown",
   "id": "5adbb783-560a-4bb7-86e0-a62b56221542",
   "metadata": {},
   "source": [
    "# Read Data"
   ]
  },
  {
   "cell_type": "markdown",
   "id": "0e1e9e53-45f6-449a-ae11-867f8590c0bd",
   "metadata": {},
   "source": [
    "## Freddotoys"
   ]
  },
  {
   "cell_type": "code",
   "execution_count": null,
   "id": "4e84dbb4-98ad-4b33-a28c-7645bcaf7da2",
   "metadata": {},
   "outputs": [],
   "source": [
    "df_ft = pd.read_csv('freddotoys_products.csv')"
   ]
  },
  {
   "cell_type": "markdown",
   "id": "0a2225e2-f037-4ae5-ba0a-e1c5b59bcade",
   "metadata": {},
   "source": [
    "## DTIDirect"
   ]
  },
  {
   "cell_type": "code",
   "execution_count": null,
   "id": "f3f30407-29eb-4d78-a792-18b0cf39f8a8",
   "metadata": {},
   "outputs": [],
   "source": [
    "df_dd = pd.read_csv('dtidirect_products.csv')"
   ]
  },
  {
   "cell_type": "markdown",
   "id": "54572302-f1bf-4864-a529-93f5547fc238",
   "metadata": {},
   "source": [
    "# Selecting DTI Product"
   ]
  },
  {
   "cell_type": "code",
   "execution_count": null,
   "id": "5c228bbc-c131-442c-9eda-bb35d4026308",
   "metadata": {},
   "outputs": [],
   "source": [
    "ft_checker = df_ft[['Variant SKU']].drop_duplicates()"
   ]
  },
  {
   "cell_type": "code",
   "execution_count": null,
   "id": "7ecbc0d6-ffd5-4049-907e-ef05ebb62391",
   "metadata": {},
   "outputs": [],
   "source": [
    "ft_checker['is_duplicated'] = 1"
   ]
  },
  {
   "cell_type": "code",
   "execution_count": null,
   "id": "7379bce4-b66e-4684-b2cf-5a841b494b0b",
   "metadata": {},
   "outputs": [],
   "source": [
    "ft_checker.nunique()"
   ]
  },
  {
   "cell_type": "code",
   "execution_count": null,
   "id": "4ff9c79d-e10d-4c88-9ce1-563f431a78e2",
   "metadata": {},
   "outputs": [],
   "source": [
    "df_dd = df_dd.merge(ft_checker, how='left', on='Variant SKU')"
   ]
  },
  {
   "cell_type": "code",
   "execution_count": null,
   "id": "5eef0891-1d29-4d29-a3b8-beaa3f80b7ed",
   "metadata": {},
   "outputs": [],
   "source": [
    "duplicated_handles = df_dd[df_dd['is_duplicated'] == 1]['Handle'].unique().tolist()"
   ]
  },
  {
   "cell_type": "code",
   "execution_count": null,
   "id": "bbf81ef4-2e4a-44c9-afc5-1c60555ec13b",
   "metadata": {},
   "outputs": [],
   "source": [
    "df_dd.loc[df_dd['Handle'].isin(duplicated_handles), 'is_duplicated'] = 1"
   ]
  },
  {
   "cell_type": "code",
   "execution_count": null,
   "id": "e7242440-a828-4cd3-ab5b-10857f667d50",
   "metadata": {},
   "outputs": [],
   "source": [
    "cleaned_df_dd = df_dd[df_dd['is_duplicated'] != 1]"
   ]
  },
  {
   "cell_type": "code",
   "execution_count": null,
   "id": "322ff247-17c7-40d8-9272-ae1a13a2e24b",
   "metadata": {},
   "outputs": [],
   "source": [
    "cleaned_df_dd.drop(columns='is_duplicated', inplace=True)"
   ]
  },
  {
   "cell_type": "markdown",
   "id": "fa8b74f1-2034-43e8-9145-13ed3e55781e",
   "metadata": {},
   "source": [
    "# Get Collection"
   ]
  },
  {
   "cell_type": "code",
   "execution_count": null,
   "id": "448e89f1-885a-4612-8ae2-7ff93e3cf2cb",
   "metadata": {},
   "outputs": [],
   "source": [
    "df = pd.concat([df_ft, df_dd], ignore_index=True)"
   ]
  },
  {
   "cell_type": "code",
   "execution_count": null,
   "id": "f0ef8c78-a2c7-4cca-a577-f6fa6a870c7c",
   "metadata": {},
   "outputs": [],
   "source": [
    "df['Collection Rule'] = df['Tags'].str.split(',')"
   ]
  },
  {
   "cell_type": "code",
   "execution_count": null,
   "id": "4d74efca-b2a9-43a4-b7ce-ab391b2545b7",
   "metadata": {},
   "outputs": [],
   "source": [
    "parent_product_df = df[~pd.isna(df['Title'])]"
   ]
  },
  {
   "cell_type": "code",
   "execution_count": null,
   "id": "ca39085c-5973-4daa-b985-5751cccaa713",
   "metadata": {},
   "outputs": [],
   "source": [
    "exploded_parent_product_df = parent_product_df.explode('Collection Rule', ignore_index=True)"
   ]
  },
  {
   "cell_type": "code",
   "execution_count": null,
   "id": "56abbc48-a0c9-456c-9e73-81adbb0ac774",
   "metadata": {},
   "outputs": [],
   "source": [
    "exploded_parent_product_df.tail()"
   ]
  },
  {
   "cell_type": "code",
   "execution_count": null,
   "id": "612cf814-f869-42bb-8397-928f94f561a3",
   "metadata": {},
   "outputs": [],
   "source": [
    "exploded_parent_product_df['Collection Rule'] = exploded_parent_product_df['Collection Rule'].str.strip()"
   ]
  },
  {
   "cell_type": "code",
   "execution_count": null,
   "id": "a1932faa-989d-446c-8d9b-e2122caf9e21",
   "metadata": {},
   "outputs": [],
   "source": [
    "exploded_parent_product_df['Collection Name'] = exploded_parent_product_df['Collection Rule'].str.title()"
   ]
  },
  {
   "cell_type": "code",
   "execution_count": null,
   "id": "3bce3906-8407-4651-aeea-6b12238b47ae",
   "metadata": {},
   "outputs": [],
   "source": [
    "collection_df = exploded_parent_product_df[['Collection Name', 'Collection Rule']]"
   ]
  },
  {
   "cell_type": "code",
   "execution_count": null,
   "id": "d4b8f953-2a75-45c1-9ddc-eb11f884e9dc",
   "metadata": {},
   "outputs": [],
   "source": [
    "collection_df.dropna(inplace=True, ignore_index=True)"
   ]
  },
  {
   "cell_type": "code",
   "execution_count": null,
   "id": "d1db3b1c-6454-49c7-9f1a-76594365501b",
   "metadata": {},
   "outputs": [],
   "source": [
    "collection_df.drop_duplicates(inplace=True, ignore_index=True)"
   ]
  },
  {
   "cell_type": "code",
   "execution_count": null,
   "id": "2a2cf81f-2a13-4385-820b-7e9c03f1b490",
   "metadata": {},
   "outputs": [],
   "source": [
    "collection_df"
   ]
  },
  {
   "cell_type": "code",
   "execution_count": null,
   "id": "86521bae-f96d-4fd3-a7e1-12a6a931b590",
   "metadata": {},
   "outputs": [],
   "source": [
    "collection_df.to_csv('fredo and dti collection.csv', index=False) "
   ]
  },
  {
   "cell_type": "markdown",
   "id": "9716689d-ae1d-4db0-bb0c-7bfe464dbc44",
   "metadata": {},
   "source": [
    "# Shopify"
   ]
  },
  {
   "cell_type": "code",
   "execution_count": null,
   "id": "61056aab-4fb7-4e5a-9e41-be24c21f2d07",
   "metadata": {},
   "outputs": [],
   "source": [
    "shopify = ShopifyApp(store_name=os.getenv('STORE_NAME'), access_token=os.getenv('ACCESS_TOKEN'))\n",
    "client = shopify.create_session()"
   ]
  },
  {
   "cell_type": "code",
   "execution_count": null,
   "id": "111579b0-1542-4e4b-a702-39ff9ffbf9e4",
   "metadata": {},
   "outputs": [],
   "source": [
    "for index in range(len(collection_df)):\n",
    "    print(collection_df.iloc[index, 0])"
   ]
  },
  {
   "cell_type": "code",
   "execution_count": null,
   "id": "cce23ed9-68e5-4246-9e04-bcee6d366605",
   "metadata": {},
   "outputs": [],
   "source": [
    "has_next_page = True\n",
    "cursor = None\n",
    "results = list()\n",
    "while has_next_page:\n",
    "    response = shopify.get_collections(client, cursor=cursor)\n",
    "    records = response['data']['collections']['nodes']\n",
    "    results.extend(records)\n",
    "    has_next_page = response['data']['collections']['pageInfo']['hasNextPage']\n",
    "    cursor = response['data']['collections']['pageInfo']['endCursor']\n",
    "results_df = pd.DataFrame.from_records(results)\n",
    "results_df.to_csv('collection_list.csv', index=False)"
   ]
  },
  {
   "cell_type": "code",
   "execution_count": null,
   "id": "8893e24a-4433-46a0-9753-43d13b5df072",
   "metadata": {},
   "outputs": [],
   "source": [
    "shopify_col_df = pd.read_csv('collection_list.csv')"
   ]
  },
  {
   "cell_type": "code",
   "execution_count": null,
   "id": "f9b838c4-ff16-4134-8413-722005d26266",
   "metadata": {},
   "outputs": [],
   "source": [
    "collection_df['Handle'] = collection_df.apply(lambda x: to_handle(title=x['Collection Name'], alt_title=''), axis=1)"
   ]
  },
  {
   "cell_type": "code",
   "execution_count": null,
   "id": "8474472b-64c9-4184-9a7e-309a344d8f68",
   "metadata": {},
   "outputs": [],
   "source": [
    "collection_df = collection_df.merge(shopify_col_df, how='left', left_on='Handle', right_on='handle')"
   ]
  },
  {
   "cell_type": "code",
   "execution_count": null,
   "id": "f62821ef-24ab-4509-939e-f514f5e44c94",
   "metadata": {},
   "outputs": [],
   "source": [
    "collection_df"
   ]
  },
  {
   "cell_type": "code",
   "execution_count": null,
   "id": "c8890e0f-337b-43e7-a2be-898633a86fe1",
   "metadata": {},
   "outputs": [],
   "source": [
    "collection_df[~pd.isna(collection_df['id'])]"
   ]
  },
  {
   "cell_type": "code",
   "execution_count": null,
   "id": "2e1d9b82-0c1f-4290-875e-7a91d5af28a2",
   "metadata": {},
   "outputs": [],
   "source": [
    "collection_df[pd.isna(collection_df['id'])]"
   ]
  },
  {
   "cell_type": "code",
   "execution_count": null,
   "id": "f292193d-bd46-43d4-bd08-f2919efb2c21",
   "metadata": {},
   "outputs": [],
   "source": []
  },
  {
   "cell_type": "markdown",
   "id": "dba0940a-fd68-404a-ad0a-3e5c0372e85a",
   "metadata": {},
   "source": [
    "## Data Report"
   ]
  },
  {
   "cell_type": "code",
   "execution_count": null,
   "id": "918bc4d6-0c50-4911-a3a2-98be67ae00e8",
   "metadata": {},
   "outputs": [],
   "source": [
    "products_data = products_df[pd.notna(products_df['Variant SKU'])] "
   ]
  },
  {
   "cell_type": "code",
   "execution_count": null,
   "id": "d88e0246-e18b-48b8-90fc-6021fb30b756",
   "metadata": {},
   "outputs": [],
   "source": [
    "products_data.loc[products_data.duplicated('Variant SKU', keep='first'), 'is_duplicated'] = 1"
   ]
  },
  {
   "cell_type": "code",
   "execution_count": null,
   "id": "ebefe78d-8bc5-40bd-bfb5-caf2018920f7",
   "metadata": {},
   "outputs": [],
   "source": [
    "products_data[products_data['is_duplicated'] == 1][['Handle','Variant SKU', 'Vendor']]"
   ]
  },
  {
   "cell_type": "code",
   "execution_count": null,
   "id": "a32dc1af-6da6-4a5e-b913-8ebb073ee5a2",
   "metadata": {},
   "outputs": [],
   "source": [
    "products_data.to_csv('products_data.csv', index=False)"
   ]
  },
  {
   "cell_type": "markdown",
   "id": "136fb864-665a-4b0e-b8c9-fb682a890d9d",
   "metadata": {},
   "source": [
    "## Data import"
   ]
  },
  {
   "cell_type": "code",
   "execution_count": null,
   "id": "8120ace1-f0d1-4957-8197-41f87ef6402b",
   "metadata": {},
   "outputs": [],
   "source": [
    "products_df = pd.concat([df_ft, cleaned_df_dd], ignore_index=True)"
   ]
  },
  {
   "cell_type": "code",
   "execution_count": null,
   "id": "81ff3d5c-7ca5-4142-9efa-bf5399b4d8d6",
   "metadata": {},
   "outputs": [],
   "source": [
    "products_df[pd.notna(products_df['Variant SKU'])][['Handle','Variant SKU', 'Vendor']]"
   ]
  },
  {
   "cell_type": "markdown",
   "id": "9bb40a04-ddf0-47ab-b0bb-f62af37c33a3",
   "metadata": {},
   "source": [
    "# Adding Tags"
   ]
  },
  {
   "cell_type": "code",
   "execution_count": null,
   "id": "bbf5edf3-7067-49dc-b1da-d3fb50b088a2",
   "metadata": {},
   "outputs": [],
   "source": [
    "products_df = pd.read_csv('product_data/products_with_upc.csv')"
   ]
  },
  {
   "cell_type": "code",
   "execution_count": null,
   "id": "1c108a2b-28d7-4ecf-b91d-01d37698c4a1",
   "metadata": {},
   "outputs": [],
   "source": [
    "products_df['Tags'] = products_df.apply(lambda x: adding_tags(x['Title'], x['Tags']), axis=1)"
   ]
  },
  {
   "cell_type": "code",
   "execution_count": null,
   "id": "80107a77-0e7e-4a39-b076-2bd7493696a8",
   "metadata": {},
   "outputs": [],
   "source": [
    "products_df[['Handle','Title','Tags', 'Vendor']]"
   ]
  },
  {
   "cell_type": "markdown",
   "id": "245c20ad-c459-4e50-9b8f-c28ab3e2b064",
   "metadata": {},
   "source": [
    "# Change Vendor"
   ]
  },
  {
   "cell_type": "code",
   "execution_count": null,
   "id": "29d86955-2015-478c-95e8-02d061730835",
   "metadata": {},
   "outputs": [],
   "source": [
    "products_df['Vendor']"
   ]
  },
  {
   "cell_type": "code",
   "execution_count": null,
   "id": "cbe5e5f9-eb95-481e-a62b-a07992e7bb7a",
   "metadata": {},
   "outputs": [],
   "source": [
    "products_df['Vendor'] = products_df['Vendor'].apply(lambda x: 'Htrn71' if x == 'Hobbytron' else None)"
   ]
  },
  {
   "cell_type": "code",
   "execution_count": null,
   "id": "a42382c1-2b40-4311-81d2-6e935463553f",
   "metadata": {},
   "outputs": [],
   "source": [
    "products_df['Vendor']"
   ]
  },
  {
   "cell_type": "code",
   "execution_count": null,
   "id": "40a6040a-9f9a-4d25-bb79-9ec7841e34b5",
   "metadata": {},
   "outputs": [],
   "source": [
    "products_df.to_csv('products_with_upc_upd_vendor_tags_rev1.csv', index=False)"
   ]
  },
  {
   "cell_type": "markdown",
   "id": "a49e21ce-5320-49f2-bcd9-00d96692a540",
   "metadata": {},
   "source": [
    "# Fill null option value"
   ]
  },
  {
   "cell_type": "code",
   "execution_count": null,
   "id": "f5b29565-f858-40fb-9e8f-ab9275eaa0d6",
   "metadata": {},
   "outputs": [],
   "source": [
    "product_df = pd.read_csv('product_data/products_with_upc_upd_vendor_tags_rev1.csv')"
   ]
  },
  {
   "cell_type": "code",
   "execution_count": null,
   "id": "3e18bf9c-0097-4d3e-8946-b6bb827d39f4",
   "metadata": {},
   "outputs": [],
   "source": [
    "product_df"
   ]
  },
  {
   "cell_type": "code",
   "execution_count": null,
   "id": "c8356462-0aba-431e-87cd-66c618126863",
   "metadata": {},
   "outputs": [],
   "source": [
    "product_df.loc[(pd.notna(product_df['Option1 Name'])) & (pd.isna(product_df['Option1 Value'])), ['Option1 Value']] = 'No Battery'"
   ]
  },
  {
   "cell_type": "code",
   "execution_count": null,
   "id": "8ebb545e-1060-4b0c-bef9-35b3c7b376ba",
   "metadata": {},
   "outputs": [],
   "source": [
    "product_df[(pd.notna(product_df['Option3 Name'])) & (pd.isna(product_df['Option3 Value']))]"
   ]
  },
  {
   "cell_type": "code",
   "execution_count": null,
   "id": "37847830-c46f-4542-8110-bb6fb91bcc7c",
   "metadata": {},
   "outputs": [],
   "source": [
    "product_df.info()"
   ]
  },
  {
   "cell_type": "code",
   "execution_count": null,
   "id": "7413a544-72b3-45cf-93b0-0af89d6ca7ed",
   "metadata": {},
   "outputs": [],
   "source": [
    "product_df.loc[pd.notna(product_df['Title']), 'Google Shopping / Custom Label 0'] = 'Htrn71'"
   ]
  },
  {
   "cell_type": "code",
   "execution_count": null,
   "id": "0b8c8dcd-4b69-43fb-ad1d-cfe13a28ab4f",
   "metadata": {},
   "outputs": [],
   "source": [
    "product_df.loc[pd.notna(product_df['Title']), 'Google Shopping / Custom Label 0']"
   ]
  },
  {
   "cell_type": "code",
   "execution_count": null,
   "id": "43580795-90e6-4885-ab15-1bfed88ce3a7",
   "metadata": {},
   "outputs": [],
   "source": [
    "product_df.to_csv('products_with_upc_upd_vendor_tags_rev2.csv', index=False)"
   ]
  },
  {
   "cell_type": "markdown",
   "id": "ce082bad-e94a-467a-8fbd-14a9423fa59f",
   "metadata": {},
   "source": [
    "# Remove Fredotoys and dti direct word"
   ]
  },
  {
   "cell_type": "code",
   "execution_count": null,
   "id": "ef1fe5b9-d57d-4b45-b14f-57a8c00bb3ba",
   "metadata": {},
   "outputs": [],
   "source": [
    "# products_df = pd.read_csv('final_products.csv')"
   ]
  },
  {
   "cell_type": "code",
   "execution_count": null,
   "id": "605f3f4d-0433-4411-8085-92c388b28e93",
   "metadata": {},
   "outputs": [],
   "source": [
    "products_df[products_df['Body (HTML)'].str.contains('freddo', case=False, na=False)]"
   ]
  },
  {
   "cell_type": "code",
   "execution_count": null,
   "id": "e3fd5f7e-500e-427c-b54d-228dbfa85802",
   "metadata": {},
   "outputs": [],
   "source": [
    "products_df['Body (HTML)'] = products_df['Body (HTML)'].apply(clean_text)"
   ]
  },
  {
   "cell_type": "code",
   "execution_count": null,
   "id": "19b60912-f9cb-4e9f-877b-6c742f4779b0",
   "metadata": {},
   "outputs": [],
   "source": [
    "products_df.iloc[34,2]"
   ]
  },
  {
   "cell_type": "code",
   "execution_count": null,
   "id": "77d0a2c7-5573-4f9d-9652-cba149bdb5ef",
   "metadata": {},
   "outputs": [],
   "source": [
    "products_df['Title'] = products_df['Title'].apply(clean_text)"
   ]
  },
  {
   "cell_type": "code",
   "execution_count": null,
   "id": "f66f7c5a-d981-4e28-9d66-0689c936c900",
   "metadata": {},
   "outputs": [],
   "source": [
    "products_df['Handle'] = products_df['Handle'].apply(clean_handle)"
   ]
  },
  {
   "cell_type": "code",
   "execution_count": null,
   "id": "fd7f8706-d241-4d79-9315-59fc70345127",
   "metadata": {},
   "outputs": [],
   "source": [
    "products_df.iloc[34,0]"
   ]
  },
  {
   "cell_type": "code",
   "execution_count": null,
   "id": "1348f960-66f6-4414-8268-aed9d1a8742b",
   "metadata": {},
   "outputs": [],
   "source": [
    "products_df[products_df['Handle'].str.contains('freddo', case=False, na=False)]"
   ]
  },
  {
   "cell_type": "markdown",
   "id": "c09c04e6-e742-4d5f-8100-d87e7f4fea4f",
   "metadata": {},
   "source": [
    "# Remove Embeded Video from body html"
   ]
  },
  {
   "cell_type": "code",
   "execution_count": null,
   "id": "2dbfd70f-ed30-4a9a-b29f-38a44658d720",
   "metadata": {},
   "outputs": [],
   "source": [
    "products_df['Body (HTML)'] = products_df['Body (HTML)'].apply(remove_video_embeds)"
   ]
  },
  {
   "cell_type": "code",
   "execution_count": null,
   "id": "26126179-d3a0-4273-9f82-8dd90575e2d5",
   "metadata": {},
   "outputs": [],
   "source": [
    "products_df['Body (HTML)'] = products_df['Body (HTML)'].apply(remove_manual_embeds)"
   ]
  },
  {
   "cell_type": "code",
   "execution_count": null,
   "id": "bd9cddbc-d443-4188-8e9e-b3abf3da9729",
   "metadata": {},
   "outputs": [],
   "source": [
    "products_df.iloc[34,2]"
   ]
  },
  {
   "cell_type": "code",
   "execution_count": null,
   "id": "0c6ce879-d886-462e-b991-4744860b08df",
   "metadata": {},
   "outputs": [],
   "source": [
    "products_df[products_df['Handle'].str.contains('magic-cars', case=False, na=False)]"
   ]
  },
  {
   "cell_type": "code",
   "execution_count": null,
   "id": "627c54dd-7368-4c63-817a-dc436f596889",
   "metadata": {},
   "outputs": [],
   "source": [
    "products_df.iloc[112,1]"
   ]
  },
  {
   "cell_type": "markdown",
   "id": "3dd6c502-1d87-4d1b-94d7-76691e6ae4cb",
   "metadata": {},
   "source": [
    "# Reduce Price"
   ]
  },
  {
   "cell_type": "code",
   "execution_count": null,
   "id": "19f56634-aaab-428b-9088-12b4a1e78286",
   "metadata": {},
   "outputs": [],
   "source": [
    "products_df['Variant Price'] = products_df['Variant Price'].apply(reduce_price)"
   ]
  },
  {
   "cell_type": "markdown",
   "id": "dc30346c-1f97-459b-83ba-7f33765cd23f",
   "metadata": {},
   "source": [
    "# Generate Inventory csv"
   ]
  },
  {
   "cell_type": "code",
   "execution_count": null,
   "id": "4762ff39-c08a-45c7-8465-fc917bcd235e",
   "metadata": {},
   "outputs": [],
   "source": [
    "inventory_df = products_df[['Handle', 'Title', 'Option1 Name', 'Option1 Value', 'Option2 Name', 'Option2 Value', 'Option3 Name', 'Option3 Value', 'Variant SKU', 'Variant Inventory Qty']].copy()"
   ]
  },
  {
   "cell_type": "code",
   "execution_count": null,
   "id": "1d0f2501-a298-4fb4-b976-78ec284fdc6d",
   "metadata": {},
   "outputs": [],
   "source": [
    "inventory_df = inventory_df[pd.notna(inventory_df['Variant SKU'])]"
   ]
  },
  {
   "cell_type": "code",
   "execution_count": null,
   "id": "3a823c40-a660-4bda-b192-e9bfdf780928",
   "metadata": {},
   "outputs": [],
   "source": [
    "inventory_df['L']"
   ]
  },
  {
   "cell_type": "markdown",
   "id": "60299956-f016-429f-a15e-58124ea4e919",
   "metadata": {},
   "source": [
    "# Add Warranty and Custom Plate Option"
   ]
  },
  {
   "cell_type": "code",
   "execution_count": null,
   "id": "9175059d-9629-46ed-a43e-581b3c731e11",
   "metadata": {},
   "outputs": [],
   "source": [
    "products_df.loc[pd.notna(products_df['Title']), 'Option2 Name'] = 'Warranty' "
   ]
  },
  {
   "cell_type": "code",
   "execution_count": null,
   "id": "ca7bc607-41ee-490b-848b-cbf18897a243",
   "metadata": {},
   "outputs": [],
   "source": [
    "products_df['Option2 Value'] = products_df.apply(lambda x: ['None - $0', '1 year - $89'] if pd.notna(x['Variant SKU']) else '', axis=1)"
   ]
  },
  {
   "cell_type": "code",
   "execution_count": null,
   "id": "46fefb25-61d1-46dd-8efe-26cc612c15c3",
   "metadata": {},
   "outputs": [],
   "source": [
    "products_df.loc[pd.notna(products_df['Title']), 'Option3 Name'] = 'Custom license plate' "
   ]
  },
  {
   "cell_type": "code",
   "execution_count": null,
   "id": "a6667e23-edd4-4f2e-bd8c-7844f184f144",
   "metadata": {},
   "outputs": [],
   "source": [
    "products_df['Option3 Value'] = products_df.apply(lambda x: ['None - $0', 'Custom license plate - $39'] if pd.notna(x['Variant SKU']) else '', axis=1)"
   ]
  },
  {
   "cell_type": "code",
   "execution_count": null,
   "id": "e0cdcf67-9efa-4189-adf1-92bb872e2361",
   "metadata": {},
   "outputs": [],
   "source": [
    "products_df = products_df.explode('Option2 Value')"
   ]
  },
  {
   "cell_type": "code",
   "execution_count": null,
   "id": "f5198a8c-4c05-47bb-b4a1-d23078e87201",
   "metadata": {},
   "outputs": [],
   "source": [
    "with open('variant_unused_columns.csv', 'r') as file:\n",
    "\t\t\trows = csv.reader(file)\n",
    "\t\t\tvariant_unused_columns = [row[0] for row in rows]"
   ]
  },
  {
   "cell_type": "code",
   "execution_count": null,
   "id": "94fcf69e-0d4a-481f-a7ae-cb6f1ce90af3",
   "metadata": {},
   "outputs": [],
   "source": [
    "products_df.loc[products_df.duplicated(['Handle', 'Option1 Value'], keep='first'), variant_unused_columns] = ''"
   ]
  },
  {
   "cell_type": "code",
   "execution_count": null,
   "id": "ebc632ea-7059-4101-a979-0f61fafee2cc",
   "metadata": {},
   "outputs": [],
   "source": [
    "products_df = products_df.explode('Option3 Value')"
   ]
  },
  {
   "cell_type": "code",
   "execution_count": null,
   "id": "00a6ff78-d88e-40d4-94d8-5853933c041d",
   "metadata": {},
   "outputs": [],
   "source": [
    "products_df.loc[products_df.duplicated(['Handle', 'Option2 Value'], keep='first'), variant_unused_columns] = ''"
   ]
  },
  {
   "cell_type": "code",
   "execution_count": null,
   "id": "199b5fde-4389-4e5b-8a36-adaf491b9fb9",
   "metadata": {},
   "outputs": [],
   "source": [
    "products_df.loc[products_df['Handle']=='12v-magic-cars-kids-cruiser-1-seater-motorcycle', ['Handle','Title', 'Image Src', 'Option1 Name', 'Option1 Value', 'Option2 Name', 'Option2 Value', 'Option3 Name', 'Option3 Value']]"
   ]
  },
  {
   "cell_type": "markdown",
   "id": "c493583b-bfbb-43ce-82fd-2fe429012e0e",
   "metadata": {},
   "source": [
    "# Modify Variant SKU"
   ]
  },
  {
   "cell_type": "code",
   "execution_count": null,
   "id": "674bdce1-3d9e-4aa0-b27e-919bc63c13df",
   "metadata": {},
   "outputs": [],
   "source": [
    "products_df['Variant SKU_1'] = products_df.apply(lambda x: modify_sku(x['Variant SKU'], x['Option2 Value'], x['Option3 Value']), axis=1)"
   ]
  },
  {
   "cell_type": "code",
   "execution_count": null,
   "id": "f6c1f01e-cfc3-4b03-9db2-e21810bb0864",
   "metadata": {},
   "outputs": [],
   "source": [
    "products_df.drop(columns='Variant SKU', inplace=True)"
   ]
  },
  {
   "cell_type": "code",
   "execution_count": null,
   "id": "3e5c7bc3-74e9-4373-ab2d-ba0bc9ca2cb4",
   "metadata": {},
   "outputs": [],
   "source": [
    "products_df.rename({'Variant SKU_1': 'Variant SKU'}, axis=1, inplace=True)"
   ]
  },
  {
   "cell_type": "markdown",
   "id": "01d53bc5-79b9-4ae6-8145-67e889207a54",
   "metadata": {},
   "source": [
    "# Modify Variant Price"
   ]
  },
  {
   "cell_type": "code",
   "execution_count": null,
   "id": "87c1337c-9ad1-43bc-a189-773cc3506bb5",
   "metadata": {},
   "outputs": [],
   "source": [
    "products_df['Variant Price_1'] = products_df.apply(lambda x: modify_price(x['Variant Price'], x['Option2 Value'], x['Option3 Value']), axis=1)"
   ]
  },
  {
   "cell_type": "code",
   "execution_count": null,
   "id": "4a9665e1-9ea9-4194-8465-d61444357fdc",
   "metadata": {},
   "outputs": [],
   "source": [
    "products_df.drop(columns='Variant Price', inplace=True)"
   ]
  },
  {
   "cell_type": "code",
   "execution_count": null,
   "id": "3fed612c-a68a-4aa5-aaa3-e4736301d62d",
   "metadata": {},
   "outputs": [],
   "source": [
    "products_df.rename({'Variant Price_1': 'Variant Price'}, axis=1, inplace=True)"
   ]
  },
  {
   "cell_type": "markdown",
   "id": "2ccce754-ebb6-4a1b-ba6e-2ace8721f864",
   "metadata": {},
   "source": [
    "# Adding UPC"
   ]
  },
  {
   "cell_type": "code",
   "execution_count": null,
   "id": "5c5783ed-eee4-401e-9589-7f2ad6043a29",
   "metadata": {},
   "outputs": [],
   "source": [
    "products_df.reset_index(drop=True, inplace=True)"
   ]
  },
  {
   "cell_type": "code",
   "execution_count": null,
   "id": "d059d61a-3e2c-4f56-a5d3-f1a482b768a1",
   "metadata": {},
   "outputs": [],
   "source": [
    "products_df[pd.notna(products_df['Variant SKU'])][['Handle', 'Variant SKU']]"
   ]
  },
  {
   "cell_type": "code",
   "execution_count": null,
   "id": "a8da7ec9-4af6-40af-96d5-cbfa4c0ae620",
   "metadata": {},
   "outputs": [],
   "source": [
    "products_df = adding_upc(products_df)"
   ]
  },
  {
   "cell_type": "code",
   "execution_count": null,
   "id": "8fdfc650-66d7-4915-93c6-77a98a42c91e",
   "metadata": {},
   "outputs": [],
   "source": [
    "# Checking\n",
    "products_df[products_df['Handle']=='12v-magic-cars-kids-cruiser-1-seater-motorcycle'][['Handle','Title','Variant SKU', 'Variant Price', 'Variant Barcode', 'Image Src','Option1 Name', 'Option1 Value', 'Option2 Name', 'Option2 Value', 'Option3 Name', 'Option3 Value']].to_csv('cek.csv', index=False)"
   ]
  },
  {
   "cell_type": "code",
   "execution_count": null,
   "id": "317c287d-926a-4bbf-a18b-76ffaccde38c",
   "metadata": {},
   "outputs": [],
   "source": [
    "products_df = shift_option(products_df)"
   ]
  },
  {
   "cell_type": "code",
   "execution_count": null,
   "id": "a7106132-809d-4888-9b38-f15efbfaf2cb",
   "metadata": {},
   "outputs": [],
   "source": [
    "products_df.to_csv('import_file/final_products.csv', index=False)"
   ]
  },
  {
   "cell_type": "code",
   "execution_count": null,
   "id": "1890c262-2403-4da6-a328-d53f081b7484",
   "metadata": {},
   "outputs": [],
   "source": []
  }
 ],
 "metadata": {
  "kernelspec": {
   "display_name": "hobbytron_venv",
   "language": "python",
   "name": "hobbytron_venv"
  },
  "language_info": {
   "codemirror_mode": {
    "name": "ipython",
    "version": 3
   },
   "file_extension": ".py",
   "mimetype": "text/x-python",
   "name": "python",
   "nbconvert_exporter": "python",
   "pygments_lexer": "ipython3",
   "version": "3.11.2"
  }
 },
 "nbformat": 4,
 "nbformat_minor": 5
}
